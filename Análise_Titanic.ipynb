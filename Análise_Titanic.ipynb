{
  "nbformat": 4,
  "nbformat_minor": 0,
  "metadata": {
    "colab": {
      "provenance": [],
      "mount_file_id": "1F8YDNWA0kgp1Rvw2pPKsny4UUFNFzODI",
      "authorship_tag": "ABX9TyPl8Ur2fyVu99AVD/Twug4X",
      "include_colab_link": true
    },
    "kernelspec": {
      "name": "python3",
      "display_name": "Python 3"
    },
    "language_info": {
      "name": "python"
    }
  },
  "cells": [
    {
      "cell_type": "markdown",
      "metadata": {
        "id": "view-in-github",
        "colab_type": "text"
      },
      "source": [
        "<a href=\"https://colab.research.google.com/github/mariaefoliveira/Analise_Titanic/blob/main/An%C3%A1lise_Titanic.ipynb\" target=\"_parent\"><img src=\"https://colab.research.google.com/assets/colab-badge.svg\" alt=\"Open In Colab\"/></a>"
      ]
    },
    {
      "cell_type": "markdown",
      "source": [
        "# **Análise de sobrevivência dos passageiros do Titanic**\n",
        ">  **Maria Eduarda Falcão de Oliveira**\n",
        "\n",
        "#### Observação:\n",
        "_A intenção deste projeto é analisar a base de dados existente sobre o titanic e aprofundar os conhecimentos sobre análise de dados._\n",
        "\n",
        "_Os dados utilizados serão do arquivo \"treino\" (train.csv)._"
      ],
      "metadata": {
        "id": "j1zqvAEp2czH"
      }
    },
    {
      "cell_type": "markdown",
      "source": [
        "## **Resumo**:\n",
        "\n",
        "\n",
        "> As questões trabalhadas foram focadas nas **classes** dos sobreviventes, **taxa** paga, e a **média** da idade dos passageiros, fazendo uma divisão entre os sexos para entender se houve alguma ligação real na sobrevivência dos passageiros do **Titanic**.\n",
        "\n"
      ],
      "metadata": {
        "id": "Vk7rSOf71pTP"
      }
    },
    {
      "cell_type": "markdown",
      "source": [
        "# Instalação, importação e descompactação do arquivo"
      ],
      "metadata": {
        "id": "KTgLvYUn23ez"
      }
    },
    {
      "cell_type": "code",
      "source": [
        "#instalando pandas, numpy, seaborn e matplotlib\n",
        "!pip install pandas\n",
        "!pip install numpy\n",
        "!pip install seaborn\n",
        "!pip install matplotlib"
      ],
      "metadata": {
        "colab": {
          "base_uri": "https://localhost:8080/"
        },
        "collapsed": true,
        "id": "29rgbibyxSfz",
        "outputId": "180575a8-c934-43a2-cf39-8796bdf84fe7"
      },
      "execution_count": null,
      "outputs": [
        {
          "output_type": "stream",
          "name": "stdout",
          "text": [
            "Requirement already satisfied: pandas in /usr/local/lib/python3.11/dist-packages (2.2.2)\n",
            "Requirement already satisfied: numpy>=1.23.2 in /usr/local/lib/python3.11/dist-packages (from pandas) (2.0.2)\n",
            "Requirement already satisfied: python-dateutil>=2.8.2 in /usr/local/lib/python3.11/dist-packages (from pandas) (2.9.0.post0)\n",
            "Requirement already satisfied: pytz>=2020.1 in /usr/local/lib/python3.11/dist-packages (from pandas) (2025.2)\n",
            "Requirement already satisfied: tzdata>=2022.7 in /usr/local/lib/python3.11/dist-packages (from pandas) (2025.2)\n",
            "Requirement already satisfied: six>=1.5 in /usr/local/lib/python3.11/dist-packages (from python-dateutil>=2.8.2->pandas) (1.17.0)\n",
            "Requirement already satisfied: numpy in /usr/local/lib/python3.11/dist-packages (2.0.2)\n",
            "Requirement already satisfied: seaborn in /usr/local/lib/python3.11/dist-packages (0.13.2)\n",
            "Requirement already satisfied: numpy!=1.24.0,>=1.20 in /usr/local/lib/python3.11/dist-packages (from seaborn) (2.0.2)\n",
            "Requirement already satisfied: pandas>=1.2 in /usr/local/lib/python3.11/dist-packages (from seaborn) (2.2.2)\n",
            "Requirement already satisfied: matplotlib!=3.6.1,>=3.4 in /usr/local/lib/python3.11/dist-packages (from seaborn) (3.10.0)\n",
            "Requirement already satisfied: contourpy>=1.0.1 in /usr/local/lib/python3.11/dist-packages (from matplotlib!=3.6.1,>=3.4->seaborn) (1.3.3)\n",
            "Requirement already satisfied: cycler>=0.10 in /usr/local/lib/python3.11/dist-packages (from matplotlib!=3.6.1,>=3.4->seaborn) (0.12.1)\n",
            "Requirement already satisfied: fonttools>=4.22.0 in /usr/local/lib/python3.11/dist-packages (from matplotlib!=3.6.1,>=3.4->seaborn) (4.59.0)\n",
            "Requirement already satisfied: kiwisolver>=1.3.1 in /usr/local/lib/python3.11/dist-packages (from matplotlib!=3.6.1,>=3.4->seaborn) (1.4.8)\n",
            "Requirement already satisfied: packaging>=20.0 in /usr/local/lib/python3.11/dist-packages (from matplotlib!=3.6.1,>=3.4->seaborn) (25.0)\n",
            "Requirement already satisfied: pillow>=8 in /usr/local/lib/python3.11/dist-packages (from matplotlib!=3.6.1,>=3.4->seaborn) (11.3.0)\n",
            "Requirement already satisfied: pyparsing>=2.3.1 in /usr/local/lib/python3.11/dist-packages (from matplotlib!=3.6.1,>=3.4->seaborn) (3.2.3)\n",
            "Requirement already satisfied: python-dateutil>=2.7 in /usr/local/lib/python3.11/dist-packages (from matplotlib!=3.6.1,>=3.4->seaborn) (2.9.0.post0)\n",
            "Requirement already satisfied: pytz>=2020.1 in /usr/local/lib/python3.11/dist-packages (from pandas>=1.2->seaborn) (2025.2)\n",
            "Requirement already satisfied: tzdata>=2022.7 in /usr/local/lib/python3.11/dist-packages (from pandas>=1.2->seaborn) (2025.2)\n",
            "Requirement already satisfied: six>=1.5 in /usr/local/lib/python3.11/dist-packages (from python-dateutil>=2.7->matplotlib!=3.6.1,>=3.4->seaborn) (1.17.0)\n",
            "Requirement already satisfied: matplotlib in /usr/local/lib/python3.11/dist-packages (3.10.0)\n",
            "Requirement already satisfied: contourpy>=1.0.1 in /usr/local/lib/python3.11/dist-packages (from matplotlib) (1.3.3)\n",
            "Requirement already satisfied: cycler>=0.10 in /usr/local/lib/python3.11/dist-packages (from matplotlib) (0.12.1)\n",
            "Requirement already satisfied: fonttools>=4.22.0 in /usr/local/lib/python3.11/dist-packages (from matplotlib) (4.59.0)\n",
            "Requirement already satisfied: kiwisolver>=1.3.1 in /usr/local/lib/python3.11/dist-packages (from matplotlib) (1.4.8)\n",
            "Requirement already satisfied: numpy>=1.23 in /usr/local/lib/python3.11/dist-packages (from matplotlib) (2.0.2)\n",
            "Requirement already satisfied: packaging>=20.0 in /usr/local/lib/python3.11/dist-packages (from matplotlib) (25.0)\n",
            "Requirement already satisfied: pillow>=8 in /usr/local/lib/python3.11/dist-packages (from matplotlib) (11.3.0)\n",
            "Requirement already satisfied: pyparsing>=2.3.1 in /usr/local/lib/python3.11/dist-packages (from matplotlib) (3.2.3)\n",
            "Requirement already satisfied: python-dateutil>=2.7 in /usr/local/lib/python3.11/dist-packages (from matplotlib) (2.9.0.post0)\n",
            "Requirement already satisfied: six>=1.5 in /usr/local/lib/python3.11/dist-packages (from python-dateutil>=2.7->matplotlib) (1.17.0)\n"
          ]
        }
      ]
    },
    {
      "cell_type": "code",
      "execution_count": null,
      "metadata": {
        "id": "Qegd3H9jt8Ja"
      },
      "outputs": [],
      "source": [
        "#Importação dos itens necessários\n",
        "import pandas as pd\n",
        "import numpy as np\n",
        "import matplotlib.pyplot as plt\n",
        "import seaborn as sns"
      ]
    },
    {
      "cell_type": "markdown",
      "source": [
        "--------\n",
        "# Análise Exploratória"
      ],
      "metadata": {
        "id": "HYggixjD3Kqj"
      }
    },
    {
      "cell_type": "code",
      "source": [
        "#Adicionando dados em um arquivo pandas\n",
        "train_df = pd.read_csv('/content/drive/MyDrive/Colab Notebooks/train.csv')"
      ],
      "metadata": {
        "id": "INbZkZ-9wwcS"
      },
      "execution_count": null,
      "outputs": []
    },
    {
      "cell_type": "markdown",
      "source": [
        "#### Train"
      ],
      "metadata": {
        "id": "dVKtohPD8etn"
      }
    },
    {
      "cell_type": "code",
      "source": [
        "train_df.shape"
      ],
      "metadata": {
        "colab": {
          "base_uri": "https://localhost:8080/"
        },
        "id": "_GA9bSXr8pFx",
        "outputId": "87bc1ab8-fb42-49e0-847b-dc864372ba1c"
      },
      "execution_count": null,
      "outputs": [
        {
          "output_type": "execute_result",
          "data": {
            "text/plain": [
              "(891, 12)"
            ]
          },
          "metadata": {},
          "execution_count": 4
        }
      ]
    },
    {
      "cell_type": "code",
      "source": [
        "train_df.info()"
      ],
      "metadata": {
        "colab": {
          "base_uri": "https://localhost:8080/"
        },
        "id": "uqvgNBKw8eTY",
        "outputId": "e7352d1f-ff38-48b6-a845-32f3d5c244d0"
      },
      "execution_count": null,
      "outputs": [
        {
          "output_type": "stream",
          "name": "stdout",
          "text": [
            "<class 'pandas.core.frame.DataFrame'>\n",
            "RangeIndex: 891 entries, 0 to 890\n",
            "Data columns (total 12 columns):\n",
            " #   Column       Non-Null Count  Dtype  \n",
            "---  ------       --------------  -----  \n",
            " 0   PassengerId  891 non-null    int64  \n",
            " 1   Survived     891 non-null    int64  \n",
            " 2   Pclass       891 non-null    int64  \n",
            " 3   Name         891 non-null    object \n",
            " 4   Sex          891 non-null    object \n",
            " 5   Age          714 non-null    float64\n",
            " 6   SibSp        891 non-null    int64  \n",
            " 7   Parch        891 non-null    int64  \n",
            " 8   Ticket       891 non-null    object \n",
            " 9   Fare         891 non-null    float64\n",
            " 10  Cabin        204 non-null    object \n",
            " 11  Embarked     889 non-null    object \n",
            "dtypes: float64(2), int64(5), object(5)\n",
            "memory usage: 83.7+ KB\n"
          ]
        }
      ]
    },
    {
      "cell_type": "code",
      "source": [
        "#Verificando se tem alguma informação repetida\n",
        "print('Número de ids únicos: ', train_df['PassengerId'].nunique())\n",
        "\n",
        "print('\\nNúmero de linhas da tabela: ', train_df.shape[0])"
      ],
      "metadata": {
        "colab": {
          "base_uri": "https://localhost:8080/"
        },
        "id": "VXd01P4FO-IN",
        "outputId": "3b3e60f0-f63e-4a86-8ba0-3fe924dafd1a"
      },
      "execution_count": null,
      "outputs": [
        {
          "output_type": "stream",
          "name": "stdout",
          "text": [
            "Número de ids únicos:  891\n",
            "\n",
            "Número de linhas da tabela:  891\n"
          ]
        }
      ]
    },
    {
      "cell_type": "code",
      "source": [
        "#Contando valores nulos\n",
        "train_df.isnull().sum()"
      ],
      "metadata": {
        "colab": {
          "base_uri": "https://localhost:8080/",
          "height": 460
        },
        "id": "v_eiYHfBphWC",
        "outputId": "94fa50b6-32b0-4295-aba4-c3b5b88a1635"
      },
      "execution_count": null,
      "outputs": [
        {
          "output_type": "execute_result",
          "data": {
            "text/plain": [
              "PassengerId      0\n",
              "Survived         0\n",
              "Pclass           0\n",
              "Name             0\n",
              "Sex              0\n",
              "Age            177\n",
              "SibSp            0\n",
              "Parch            0\n",
              "Ticket           0\n",
              "Fare             0\n",
              "Cabin          687\n",
              "Embarked         2\n",
              "dtype: int64"
            ],
            "text/html": [
              "<div>\n",
              "<style scoped>\n",
              "    .dataframe tbody tr th:only-of-type {\n",
              "        vertical-align: middle;\n",
              "    }\n",
              "\n",
              "    .dataframe tbody tr th {\n",
              "        vertical-align: top;\n",
              "    }\n",
              "\n",
              "    .dataframe thead th {\n",
              "        text-align: right;\n",
              "    }\n",
              "</style>\n",
              "<table border=\"1\" class=\"dataframe\">\n",
              "  <thead>\n",
              "    <tr style=\"text-align: right;\">\n",
              "      <th></th>\n",
              "      <th>0</th>\n",
              "    </tr>\n",
              "  </thead>\n",
              "  <tbody>\n",
              "    <tr>\n",
              "      <th>PassengerId</th>\n",
              "      <td>0</td>\n",
              "    </tr>\n",
              "    <tr>\n",
              "      <th>Survived</th>\n",
              "      <td>0</td>\n",
              "    </tr>\n",
              "    <tr>\n",
              "      <th>Pclass</th>\n",
              "      <td>0</td>\n",
              "    </tr>\n",
              "    <tr>\n",
              "      <th>Name</th>\n",
              "      <td>0</td>\n",
              "    </tr>\n",
              "    <tr>\n",
              "      <th>Sex</th>\n",
              "      <td>0</td>\n",
              "    </tr>\n",
              "    <tr>\n",
              "      <th>Age</th>\n",
              "      <td>177</td>\n",
              "    </tr>\n",
              "    <tr>\n",
              "      <th>SibSp</th>\n",
              "      <td>0</td>\n",
              "    </tr>\n",
              "    <tr>\n",
              "      <th>Parch</th>\n",
              "      <td>0</td>\n",
              "    </tr>\n",
              "    <tr>\n",
              "      <th>Ticket</th>\n",
              "      <td>0</td>\n",
              "    </tr>\n",
              "    <tr>\n",
              "      <th>Fare</th>\n",
              "      <td>0</td>\n",
              "    </tr>\n",
              "    <tr>\n",
              "      <th>Cabin</th>\n",
              "      <td>687</td>\n",
              "    </tr>\n",
              "    <tr>\n",
              "      <th>Embarked</th>\n",
              "      <td>2</td>\n",
              "    </tr>\n",
              "  </tbody>\n",
              "</table>\n",
              "</div><br><label><b>dtype:</b> int64</label>"
            ]
          },
          "metadata": {},
          "execution_count": 7
        }
      ]
    },
    {
      "cell_type": "code",
      "source": [
        "train_df.nunique()"
      ],
      "metadata": {
        "colab": {
          "base_uri": "https://localhost:8080/",
          "height": 460
        },
        "id": "rSeOKBf08sPR",
        "outputId": "b97c8f64-eb2c-48ab-bc1d-a18911b19c4d"
      },
      "execution_count": null,
      "outputs": [
        {
          "output_type": "execute_result",
          "data": {
            "text/plain": [
              "PassengerId    891\n",
              "Survived         2\n",
              "Pclass           3\n",
              "Name           891\n",
              "Sex              2\n",
              "Age             88\n",
              "SibSp            7\n",
              "Parch            7\n",
              "Ticket         681\n",
              "Fare           248\n",
              "Cabin          147\n",
              "Embarked         3\n",
              "dtype: int64"
            ],
            "text/html": [
              "<div>\n",
              "<style scoped>\n",
              "    .dataframe tbody tr th:only-of-type {\n",
              "        vertical-align: middle;\n",
              "    }\n",
              "\n",
              "    .dataframe tbody tr th {\n",
              "        vertical-align: top;\n",
              "    }\n",
              "\n",
              "    .dataframe thead th {\n",
              "        text-align: right;\n",
              "    }\n",
              "</style>\n",
              "<table border=\"1\" class=\"dataframe\">\n",
              "  <thead>\n",
              "    <tr style=\"text-align: right;\">\n",
              "      <th></th>\n",
              "      <th>0</th>\n",
              "    </tr>\n",
              "  </thead>\n",
              "  <tbody>\n",
              "    <tr>\n",
              "      <th>PassengerId</th>\n",
              "      <td>891</td>\n",
              "    </tr>\n",
              "    <tr>\n",
              "      <th>Survived</th>\n",
              "      <td>2</td>\n",
              "    </tr>\n",
              "    <tr>\n",
              "      <th>Pclass</th>\n",
              "      <td>3</td>\n",
              "    </tr>\n",
              "    <tr>\n",
              "      <th>Name</th>\n",
              "      <td>891</td>\n",
              "    </tr>\n",
              "    <tr>\n",
              "      <th>Sex</th>\n",
              "      <td>2</td>\n",
              "    </tr>\n",
              "    <tr>\n",
              "      <th>Age</th>\n",
              "      <td>88</td>\n",
              "    </tr>\n",
              "    <tr>\n",
              "      <th>SibSp</th>\n",
              "      <td>7</td>\n",
              "    </tr>\n",
              "    <tr>\n",
              "      <th>Parch</th>\n",
              "      <td>7</td>\n",
              "    </tr>\n",
              "    <tr>\n",
              "      <th>Ticket</th>\n",
              "      <td>681</td>\n",
              "    </tr>\n",
              "    <tr>\n",
              "      <th>Fare</th>\n",
              "      <td>248</td>\n",
              "    </tr>\n",
              "    <tr>\n",
              "      <th>Cabin</th>\n",
              "      <td>147</td>\n",
              "    </tr>\n",
              "    <tr>\n",
              "      <th>Embarked</th>\n",
              "      <td>3</td>\n",
              "    </tr>\n",
              "  </tbody>\n",
              "</table>\n",
              "</div><br><label><b>dtype:</b> int64</label>"
            ]
          },
          "metadata": {},
          "execution_count": 8
        }
      ]
    },
    {
      "cell_type": "markdown",
      "source": [
        "## Renomeando colunas"
      ],
      "metadata": {
        "id": "LjHLJLR0wv4L"
      }
    },
    {
      "cell_type": "code",
      "source": [
        "# Renomeando colunas usando o método .rename()\n",
        "train_df.rename(columns={\n",
        "    'PassengerId': 'Id_Passageiro',\n",
        "    'Survived': 'Sobrevivente', #0=Não, 1=Sim\n",
        "    'Pclass': 'Tipo_Bilhete', #1=1ªClasse, 2=2ªClasse, 3=3ªClasse\n",
        "    'Name': 'Nome',\n",
        "    'Sex': 'Sexo', #Feminino/Masculino\n",
        "    'Age': 'Idade',\n",
        "    'SibSp': 'Qtd_Irmaos_Conjuges',\n",
        "    'Parch': 'Qtd_Pais_filhos',\n",
        "    'Ticket': 'Num_Bilhete',\n",
        "    'Fare': 'Tarifa_Passageiro',\n",
        "    'Cabin': 'Num_Cabine',\n",
        "    'Embarked': 'Porto_de_Embarque' #C = Cherbourg, Q = Queenstown S = Southampton\n",
        "}, inplace=True)\n",
        "\n",
        "# Exibindo as primeiras linhas para verificar os nomes das colunas\n",
        "display(train_df.head(6))"
      ],
      "metadata": {
        "colab": {
          "base_uri": "https://localhost:8080/",
          "height": 552
        },
        "id": "Voaj-HzA_Z8m",
        "outputId": "27dbdcec-a0bc-4dbe-a954-69862282e259"
      },
      "execution_count": null,
      "outputs": [
        {
          "output_type": "display_data",
          "data": {
            "text/plain": [
              "   Id_Passageiro  Sobrevivente  Tipo_Bilhete  \\\n",
              "0              1             0             3   \n",
              "1              2             1             1   \n",
              "2              3             1             3   \n",
              "3              4             1             1   \n",
              "4              5             0             3   \n",
              "5              6             0             3   \n",
              "\n",
              "                                                Nome    Sexo  Idade  \\\n",
              "0                            Braund, Mr. Owen Harris    male   22.0   \n",
              "1  Cumings, Mrs. John Bradley (Florence Briggs Th...  female   38.0   \n",
              "2                             Heikkinen, Miss. Laina  female   26.0   \n",
              "3       Futrelle, Mrs. Jacques Heath (Lily May Peel)  female   35.0   \n",
              "4                           Allen, Mr. William Henry    male   35.0   \n",
              "5                                   Moran, Mr. James    male    NaN   \n",
              "\n",
              "   Qtd_Irmaos_Conjuges  Qtd_Pais_filhos       Num_Bilhete  Tarifa_Passageiro  \\\n",
              "0                    1                0         A/5 21171             7.2500   \n",
              "1                    1                0          PC 17599            71.2833   \n",
              "2                    0                0  STON/O2. 3101282             7.9250   \n",
              "3                    1                0            113803            53.1000   \n",
              "4                    0                0            373450             8.0500   \n",
              "5                    0                0            330877             8.4583   \n",
              "\n",
              "  Num_Cabine Porto_de_Embarque  \n",
              "0        NaN                 S  \n",
              "1        C85                 C  \n",
              "2        NaN                 S  \n",
              "3       C123                 S  \n",
              "4        NaN                 S  \n",
              "5        NaN                 Q  "
            ],
            "text/html": [
              "\n",
              "  <div id=\"df-f5d06575-1447-482c-895f-a54a72bf6936\" class=\"colab-df-container\">\n",
              "    <div>\n",
              "<style scoped>\n",
              "    .dataframe tbody tr th:only-of-type {\n",
              "        vertical-align: middle;\n",
              "    }\n",
              "\n",
              "    .dataframe tbody tr th {\n",
              "        vertical-align: top;\n",
              "    }\n",
              "\n",
              "    .dataframe thead th {\n",
              "        text-align: right;\n",
              "    }\n",
              "</style>\n",
              "<table border=\"1\" class=\"dataframe\">\n",
              "  <thead>\n",
              "    <tr style=\"text-align: right;\">\n",
              "      <th></th>\n",
              "      <th>Id_Passageiro</th>\n",
              "      <th>Sobrevivente</th>\n",
              "      <th>Tipo_Bilhete</th>\n",
              "      <th>Nome</th>\n",
              "      <th>Sexo</th>\n",
              "      <th>Idade</th>\n",
              "      <th>Qtd_Irmaos_Conjuges</th>\n",
              "      <th>Qtd_Pais_filhos</th>\n",
              "      <th>Num_Bilhete</th>\n",
              "      <th>Tarifa_Passageiro</th>\n",
              "      <th>Num_Cabine</th>\n",
              "      <th>Porto_de_Embarque</th>\n",
              "    </tr>\n",
              "  </thead>\n",
              "  <tbody>\n",
              "    <tr>\n",
              "      <th>0</th>\n",
              "      <td>1</td>\n",
              "      <td>0</td>\n",
              "      <td>3</td>\n",
              "      <td>Braund, Mr. Owen Harris</td>\n",
              "      <td>male</td>\n",
              "      <td>22.0</td>\n",
              "      <td>1</td>\n",
              "      <td>0</td>\n",
              "      <td>A/5 21171</td>\n",
              "      <td>7.2500</td>\n",
              "      <td>NaN</td>\n",
              "      <td>S</td>\n",
              "    </tr>\n",
              "    <tr>\n",
              "      <th>1</th>\n",
              "      <td>2</td>\n",
              "      <td>1</td>\n",
              "      <td>1</td>\n",
              "      <td>Cumings, Mrs. John Bradley (Florence Briggs Th...</td>\n",
              "      <td>female</td>\n",
              "      <td>38.0</td>\n",
              "      <td>1</td>\n",
              "      <td>0</td>\n",
              "      <td>PC 17599</td>\n",
              "      <td>71.2833</td>\n",
              "      <td>C85</td>\n",
              "      <td>C</td>\n",
              "    </tr>\n",
              "    <tr>\n",
              "      <th>2</th>\n",
              "      <td>3</td>\n",
              "      <td>1</td>\n",
              "      <td>3</td>\n",
              "      <td>Heikkinen, Miss. Laina</td>\n",
              "      <td>female</td>\n",
              "      <td>26.0</td>\n",
              "      <td>0</td>\n",
              "      <td>0</td>\n",
              "      <td>STON/O2. 3101282</td>\n",
              "      <td>7.9250</td>\n",
              "      <td>NaN</td>\n",
              "      <td>S</td>\n",
              "    </tr>\n",
              "    <tr>\n",
              "      <th>3</th>\n",
              "      <td>4</td>\n",
              "      <td>1</td>\n",
              "      <td>1</td>\n",
              "      <td>Futrelle, Mrs. Jacques Heath (Lily May Peel)</td>\n",
              "      <td>female</td>\n",
              "      <td>35.0</td>\n",
              "      <td>1</td>\n",
              "      <td>0</td>\n",
              "      <td>113803</td>\n",
              "      <td>53.1000</td>\n",
              "      <td>C123</td>\n",
              "      <td>S</td>\n",
              "    </tr>\n",
              "    <tr>\n",
              "      <th>4</th>\n",
              "      <td>5</td>\n",
              "      <td>0</td>\n",
              "      <td>3</td>\n",
              "      <td>Allen, Mr. William Henry</td>\n",
              "      <td>male</td>\n",
              "      <td>35.0</td>\n",
              "      <td>0</td>\n",
              "      <td>0</td>\n",
              "      <td>373450</td>\n",
              "      <td>8.0500</td>\n",
              "      <td>NaN</td>\n",
              "      <td>S</td>\n",
              "    </tr>\n",
              "    <tr>\n",
              "      <th>5</th>\n",
              "      <td>6</td>\n",
              "      <td>0</td>\n",
              "      <td>3</td>\n",
              "      <td>Moran, Mr. James</td>\n",
              "      <td>male</td>\n",
              "      <td>NaN</td>\n",
              "      <td>0</td>\n",
              "      <td>0</td>\n",
              "      <td>330877</td>\n",
              "      <td>8.4583</td>\n",
              "      <td>NaN</td>\n",
              "      <td>Q</td>\n",
              "    </tr>\n",
              "  </tbody>\n",
              "</table>\n",
              "</div>\n",
              "    <div class=\"colab-df-buttons\">\n",
              "\n",
              "  <div class=\"colab-df-container\">\n",
              "    <button class=\"colab-df-convert\" onclick=\"convertToInteractive('df-f5d06575-1447-482c-895f-a54a72bf6936')\"\n",
              "            title=\"Convert this dataframe to an interactive table.\"\n",
              "            style=\"display:none;\">\n",
              "\n",
              "  <svg xmlns=\"http://www.w3.org/2000/svg\" height=\"24px\" viewBox=\"0 -960 960 960\">\n",
              "    <path d=\"M120-120v-720h720v720H120Zm60-500h600v-160H180v160Zm220 220h160v-160H400v160Zm0 220h160v-160H400v160ZM180-400h160v-160H180v160Zm440 0h160v-160H620v160ZM180-180h160v-160H180v160Zm440 0h160v-160H620v160Z\"/>\n",
              "  </svg>\n",
              "    </button>\n",
              "\n",
              "  <style>\n",
              "    .colab-df-container {\n",
              "      display:flex;\n",
              "      gap: 12px;\n",
              "    }\n",
              "\n",
              "    .colab-df-convert {\n",
              "      background-color: #E8F0FE;\n",
              "      border: none;\n",
              "      border-radius: 50%;\n",
              "      cursor: pointer;\n",
              "      display: none;\n",
              "      fill: #1967D2;\n",
              "      height: 32px;\n",
              "      padding: 0 0 0 0;\n",
              "      width: 32px;\n",
              "    }\n",
              "\n",
              "    .colab-df-convert:hover {\n",
              "      background-color: #E2EBFA;\n",
              "      box-shadow: 0px 1px 2px rgba(60, 64, 67, 0.3), 0px 1px 3px 1px rgba(60, 64, 67, 0.15);\n",
              "      fill: #174EA6;\n",
              "    }\n",
              "\n",
              "    .colab-df-buttons div {\n",
              "      margin-bottom: 4px;\n",
              "    }\n",
              "\n",
              "    [theme=dark] .colab-df-convert {\n",
              "      background-color: #3B4455;\n",
              "      fill: #D2E3FC;\n",
              "    }\n",
              "\n",
              "    [theme=dark] .colab-df-convert:hover {\n",
              "      background-color: #434B5C;\n",
              "      box-shadow: 0px 1px 3px 1px rgba(0, 0, 0, 0.15);\n",
              "      filter: drop-shadow(0px 1px 2px rgba(0, 0, 0, 0.3));\n",
              "      fill: #FFFFFF;\n",
              "    }\n",
              "  </style>\n",
              "\n",
              "    <script>\n",
              "      const buttonEl =\n",
              "        document.querySelector('#df-f5d06575-1447-482c-895f-a54a72bf6936 button.colab-df-convert');\n",
              "      buttonEl.style.display =\n",
              "        google.colab.kernel.accessAllowed ? 'block' : 'none';\n",
              "\n",
              "      async function convertToInteractive(key) {\n",
              "        const element = document.querySelector('#df-f5d06575-1447-482c-895f-a54a72bf6936');\n",
              "        const dataTable =\n",
              "          await google.colab.kernel.invokeFunction('convertToInteractive',\n",
              "                                                    [key], {});\n",
              "        if (!dataTable) return;\n",
              "\n",
              "        const docLinkHtml = 'Like what you see? Visit the ' +\n",
              "          '<a target=\"_blank\" href=https://colab.research.google.com/notebooks/data_table.ipynb>data table notebook</a>'\n",
              "          + ' to learn more about interactive tables.';\n",
              "        element.innerHTML = '';\n",
              "        dataTable['output_type'] = 'display_data';\n",
              "        await google.colab.output.renderOutput(dataTable, element);\n",
              "        const docLink = document.createElement('div');\n",
              "        docLink.innerHTML = docLinkHtml;\n",
              "        element.appendChild(docLink);\n",
              "      }\n",
              "    </script>\n",
              "  </div>\n",
              "\n",
              "\n",
              "    <div id=\"df-104bd82c-96d1-47db-b558-ecf2df5deb71\">\n",
              "      <button class=\"colab-df-quickchart\" onclick=\"quickchart('df-104bd82c-96d1-47db-b558-ecf2df5deb71')\"\n",
              "                title=\"Suggest charts\"\n",
              "                style=\"display:none;\">\n",
              "\n",
              "<svg xmlns=\"http://www.w3.org/2000/svg\" height=\"24px\"viewBox=\"0 0 24 24\"\n",
              "     width=\"24px\">\n",
              "    <g>\n",
              "        <path d=\"M19 3H5c-1.1 0-2 .9-2 2v14c0 1.1.9 2 2 2h14c1.1 0 2-.9 2-2V5c0-1.1-.9-2-2-2zM9 17H7v-7h2v7zm4 0h-2V7h2v10zm4 0h-2v-4h2v4z\"/>\n",
              "    </g>\n",
              "</svg>\n",
              "      </button>\n",
              "\n",
              "<style>\n",
              "  .colab-df-quickchart {\n",
              "      --bg-color: #E8F0FE;\n",
              "      --fill-color: #1967D2;\n",
              "      --hover-bg-color: #E2EBFA;\n",
              "      --hover-fill-color: #174EA6;\n",
              "      --disabled-fill-color: #AAA;\n",
              "      --disabled-bg-color: #DDD;\n",
              "  }\n",
              "\n",
              "  [theme=dark] .colab-df-quickchart {\n",
              "      --bg-color: #3B4455;\n",
              "      --fill-color: #D2E3FC;\n",
              "      --hover-bg-color: #434B5C;\n",
              "      --hover-fill-color: #FFFFFF;\n",
              "      --disabled-bg-color: #3B4455;\n",
              "      --disabled-fill-color: #666;\n",
              "  }\n",
              "\n",
              "  .colab-df-quickchart {\n",
              "    background-color: var(--bg-color);\n",
              "    border: none;\n",
              "    border-radius: 50%;\n",
              "    cursor: pointer;\n",
              "    display: none;\n",
              "    fill: var(--fill-color);\n",
              "    height: 32px;\n",
              "    padding: 0;\n",
              "    width: 32px;\n",
              "  }\n",
              "\n",
              "  .colab-df-quickchart:hover {\n",
              "    background-color: var(--hover-bg-color);\n",
              "    box-shadow: 0 1px 2px rgba(60, 64, 67, 0.3), 0 1px 3px 1px rgba(60, 64, 67, 0.15);\n",
              "    fill: var(--button-hover-fill-color);\n",
              "  }\n",
              "\n",
              "  .colab-df-quickchart-complete:disabled,\n",
              "  .colab-df-quickchart-complete:disabled:hover {\n",
              "    background-color: var(--disabled-bg-color);\n",
              "    fill: var(--disabled-fill-color);\n",
              "    box-shadow: none;\n",
              "  }\n",
              "\n",
              "  .colab-df-spinner {\n",
              "    border: 2px solid var(--fill-color);\n",
              "    border-color: transparent;\n",
              "    border-bottom-color: var(--fill-color);\n",
              "    animation:\n",
              "      spin 1s steps(1) infinite;\n",
              "  }\n",
              "\n",
              "  @keyframes spin {\n",
              "    0% {\n",
              "      border-color: transparent;\n",
              "      border-bottom-color: var(--fill-color);\n",
              "      border-left-color: var(--fill-color);\n",
              "    }\n",
              "    20% {\n",
              "      border-color: transparent;\n",
              "      border-left-color: var(--fill-color);\n",
              "      border-top-color: var(--fill-color);\n",
              "    }\n",
              "    30% {\n",
              "      border-color: transparent;\n",
              "      border-left-color: var(--fill-color);\n",
              "      border-top-color: var(--fill-color);\n",
              "      border-right-color: var(--fill-color);\n",
              "    }\n",
              "    40% {\n",
              "      border-color: transparent;\n",
              "      border-right-color: var(--fill-color);\n",
              "      border-top-color: var(--fill-color);\n",
              "    }\n",
              "    60% {\n",
              "      border-color: transparent;\n",
              "      border-right-color: var(--fill-color);\n",
              "    }\n",
              "    80% {\n",
              "      border-color: transparent;\n",
              "      border-right-color: var(--fill-color);\n",
              "      border-bottom-color: var(--fill-color);\n",
              "    }\n",
              "    90% {\n",
              "      border-color: transparent;\n",
              "      border-bottom-color: var(--fill-color);\n",
              "    }\n",
              "  }\n",
              "</style>\n",
              "\n",
              "      <script>\n",
              "        async function quickchart(key) {\n",
              "          const quickchartButtonEl =\n",
              "            document.querySelector('#' + key + ' button');\n",
              "          quickchartButtonEl.disabled = true;  // To prevent multiple clicks.\n",
              "          quickchartButtonEl.classList.add('colab-df-spinner');\n",
              "          try {\n",
              "            const charts = await google.colab.kernel.invokeFunction(\n",
              "                'suggestCharts', [key], {});\n",
              "          } catch (error) {\n",
              "            console.error('Error during call to suggestCharts:', error);\n",
              "          }\n",
              "          quickchartButtonEl.classList.remove('colab-df-spinner');\n",
              "          quickchartButtonEl.classList.add('colab-df-quickchart-complete');\n",
              "        }\n",
              "        (() => {\n",
              "          let quickchartButtonEl =\n",
              "            document.querySelector('#df-104bd82c-96d1-47db-b558-ecf2df5deb71 button');\n",
              "          quickchartButtonEl.style.display =\n",
              "            google.colab.kernel.accessAllowed ? 'block' : 'none';\n",
              "        })();\n",
              "      </script>\n",
              "    </div>\n",
              "\n",
              "    </div>\n",
              "  </div>\n"
            ],
            "application/vnd.google.colaboratory.intrinsic+json": {
              "type": "dataframe",
              "summary": "{\n  \"name\": \"display(train_df\",\n  \"rows\": 6,\n  \"fields\": [\n    {\n      \"column\": \"Id_Passageiro\",\n      \"properties\": {\n        \"dtype\": \"number\",\n        \"std\": 1,\n        \"min\": 1,\n        \"max\": 6,\n        \"num_unique_values\": 6,\n        \"samples\": [\n          1,\n          2,\n          6\n        ],\n        \"semantic_type\": \"\",\n        \"description\": \"\"\n      }\n    },\n    {\n      \"column\": \"Sobrevivente\",\n      \"properties\": {\n        \"dtype\": \"number\",\n        \"std\": 0,\n        \"min\": 0,\n        \"max\": 1,\n        \"num_unique_values\": 2,\n        \"samples\": [\n          1,\n          0\n        ],\n        \"semantic_type\": \"\",\n        \"description\": \"\"\n      }\n    },\n    {\n      \"column\": \"Tipo_Bilhete\",\n      \"properties\": {\n        \"dtype\": \"number\",\n        \"std\": 1,\n        \"min\": 1,\n        \"max\": 3,\n        \"num_unique_values\": 2,\n        \"samples\": [\n          1,\n          3\n        ],\n        \"semantic_type\": \"\",\n        \"description\": \"\"\n      }\n    },\n    {\n      \"column\": \"Nome\",\n      \"properties\": {\n        \"dtype\": \"string\",\n        \"num_unique_values\": 6,\n        \"samples\": [\n          \"Braund, Mr. Owen Harris\",\n          \"Cumings, Mrs. John Bradley (Florence Briggs Thayer)\"\n        ],\n        \"semantic_type\": \"\",\n        \"description\": \"\"\n      }\n    },\n    {\n      \"column\": \"Sexo\",\n      \"properties\": {\n        \"dtype\": \"category\",\n        \"num_unique_values\": 2,\n        \"samples\": [\n          \"female\",\n          \"male\"\n        ],\n        \"semantic_type\": \"\",\n        \"description\": \"\"\n      }\n    },\n    {\n      \"column\": \"Idade\",\n      \"properties\": {\n        \"dtype\": \"number\",\n        \"std\": 6.833739825307955,\n        \"min\": 22.0,\n        \"max\": 38.0,\n        \"num_unique_values\": 4,\n        \"samples\": [\n          38.0,\n          35.0\n        ],\n        \"semantic_type\": \"\",\n        \"description\": \"\"\n      }\n    },\n    {\n      \"column\": \"Qtd_Irmaos_Conjuges\",\n      \"properties\": {\n        \"dtype\": \"number\",\n        \"std\": 0,\n        \"min\": 0,\n        \"max\": 1,\n        \"num_unique_values\": 2,\n        \"samples\": [\n          0,\n          1\n        ],\n        \"semantic_type\": \"\",\n        \"description\": \"\"\n      }\n    },\n    {\n      \"column\": \"Qtd_Pais_filhos\",\n      \"properties\": {\n        \"dtype\": \"number\",\n        \"std\": 0,\n        \"min\": 0,\n        \"max\": 0,\n        \"num_unique_values\": 1,\n        \"samples\": [\n          0\n        ],\n        \"semantic_type\": \"\",\n        \"description\": \"\"\n      }\n    },\n    {\n      \"column\": \"Num_Bilhete\",\n      \"properties\": {\n        \"dtype\": \"string\",\n        \"num_unique_values\": 6,\n        \"samples\": [\n          \"A/5 21171\"\n        ],\n        \"semantic_type\": \"\",\n        \"description\": \"\"\n      }\n    },\n    {\n      \"column\": \"Tarifa_Passageiro\",\n      \"properties\": {\n        \"dtype\": \"number\",\n        \"std\": 28.611775140735325,\n        \"min\": 7.25,\n        \"max\": 71.2833,\n        \"num_unique_values\": 6,\n        \"samples\": [\n          7.25\n        ],\n        \"semantic_type\": \"\",\n        \"description\": \"\"\n      }\n    },\n    {\n      \"column\": \"Num_Cabine\",\n      \"properties\": {\n        \"dtype\": \"category\",\n        \"num_unique_values\": 2,\n        \"samples\": [\n          \"C123\"\n        ],\n        \"semantic_type\": \"\",\n        \"description\": \"\"\n      }\n    },\n    {\n      \"column\": \"Porto_de_Embarque\",\n      \"properties\": {\n        \"dtype\": \"string\",\n        \"num_unique_values\": 3,\n        \"samples\": [\n          \"S\"\n        ],\n        \"semantic_type\": \"\",\n        \"description\": \"\"\n      }\n    }\n  ]\n}"
            }
          },
          "metadata": {}
        }
      ]
    },
    {
      "cell_type": "markdown",
      "source": [
        "## Tratamento dos Dados"
      ],
      "metadata": {
        "id": "ltAe0sYKwzNJ"
      }
    },
    {
      "cell_type": "markdown",
      "source": [
        "### - Categorizando colunas"
      ],
      "metadata": {
        "id": "h9JBEmI4JTQm"
      }
    },
    {
      "cell_type": "code",
      "source": [
        "#Tornando tipo categórico de Sim e Não, os itens que só possuem 2 valores únicos (1 e 0)\n",
        "train_df['Sobrevivente'] = train_df['Sobrevivente'].astype('category')\n",
        "#renomear os itens categóricos 0 = Não e 1 = Sim\n",
        "train_df['Sobrevivente'] = train_df['Sobrevivente'].cat.rename_categories(['Não', 'Sim'])"
      ],
      "metadata": {
        "id": "wkIoj_YiDT9G",
        "collapsed": true
      },
      "execution_count": null,
      "outputs": []
    },
    {
      "cell_type": "code",
      "source": [
        "train_df['Tipo_Bilhete'] = train_df['Tipo_Bilhete'].astype('category')\n",
        "train_df['Tipo_Bilhete'] = train_df['Tipo_Bilhete'].cat.rename_categories(['1ª Classe', '2ª Classe', '3ª Classe'])"
      ],
      "metadata": {
        "id": "nAQ04XwHDyJP"
      },
      "execution_count": null,
      "outputs": []
    },
    {
      "cell_type": "code",
      "source": [
        "train_df['Sexo'] = train_df['Sexo'].astype('category')\n",
        "train_df['Sexo'] = train_df['Sexo'].cat.rename_categories(['Feminino','Masculino'])"
      ],
      "metadata": {
        "collapsed": true,
        "id": "89xbgVe3okXI"
      },
      "execution_count": null,
      "outputs": []
    },
    {
      "cell_type": "code",
      "source": [
        "#Categorizando a coluna 'Porto_de_Embarque'\n",
        "train_df['Porto_de_Embarque'] = train_df['Porto_de_Embarque'].astype('category')\n",
        "#Renomeando para C = Cherbourg, Q = Queenstown S = Southampton\n",
        "train_df['Porto_de_Embarque'] = train_df['Porto_de_Embarque'].cat.rename_categories(['Cherbourg', 'Queenstown', 'Southampton'])"
      ],
      "metadata": {
        "id": "kfYGVMKPv8n2"
      },
      "execution_count": null,
      "outputs": []
    },
    {
      "cell_type": "code",
      "source": [
        "#Convertendo idade para inteiro e mantendo nulo, representando nulo como -1\n",
        "train_df['Idade'] = train_df['Idade'].fillna(-1).astype(int)\n",
        "train_df['Idade'] = train_df['Idade'].replace(-1, pd.NA)"
      ],
      "metadata": {
        "id": "FtoeC-Pstzqu"
      },
      "execution_count": null,
      "outputs": []
    },
    {
      "cell_type": "code",
      "source": [
        "train_df.head()"
      ],
      "metadata": {
        "colab": {
          "base_uri": "https://localhost:8080/",
          "height": 504
        },
        "id": "SxffhSFpwlt4",
        "outputId": "13c8b38c-7682-407d-f9ce-e65d992e96e7"
      },
      "execution_count": null,
      "outputs": [
        {
          "output_type": "execute_result",
          "data": {
            "text/plain": [
              "   Id_Passageiro Sobrevivente Tipo_Bilhete  \\\n",
              "0              1          Não    3ª Classe   \n",
              "1              2          Sim    1ª Classe   \n",
              "2              3          Sim    3ª Classe   \n",
              "3              4          Sim    1ª Classe   \n",
              "4              5          Não    3ª Classe   \n",
              "\n",
              "                                                Nome       Sexo  Idade  \\\n",
              "0                            Braund, Mr. Owen Harris  Masculino     22   \n",
              "1  Cumings, Mrs. John Bradley (Florence Briggs Th...   Feminino     38   \n",
              "2                             Heikkinen, Miss. Laina   Feminino     26   \n",
              "3       Futrelle, Mrs. Jacques Heath (Lily May Peel)   Feminino     35   \n",
              "4                           Allen, Mr. William Henry  Masculino     35   \n",
              "\n",
              "   Qtd_Irmaos_Conjuges  Qtd_Pais_filhos       Num_Bilhete  Tarifa_Passageiro  \\\n",
              "0                    1                0         A/5 21171             7.2500   \n",
              "1                    1                0          PC 17599            71.2833   \n",
              "2                    0                0  STON/O2. 3101282             7.9250   \n",
              "3                    1                0            113803            53.1000   \n",
              "4                    0                0            373450             8.0500   \n",
              "\n",
              "  Num_Cabine Porto_de_Embarque  \n",
              "0        NaN       Southampton  \n",
              "1        C85         Cherbourg  \n",
              "2        NaN       Southampton  \n",
              "3       C123       Southampton  \n",
              "4        NaN       Southampton  "
            ],
            "text/html": [
              "\n",
              "  <div id=\"df-68eb8401-c111-4e80-af76-0060e063aafe\" class=\"colab-df-container\">\n",
              "    <div>\n",
              "<style scoped>\n",
              "    .dataframe tbody tr th:only-of-type {\n",
              "        vertical-align: middle;\n",
              "    }\n",
              "\n",
              "    .dataframe tbody tr th {\n",
              "        vertical-align: top;\n",
              "    }\n",
              "\n",
              "    .dataframe thead th {\n",
              "        text-align: right;\n",
              "    }\n",
              "</style>\n",
              "<table border=\"1\" class=\"dataframe\">\n",
              "  <thead>\n",
              "    <tr style=\"text-align: right;\">\n",
              "      <th></th>\n",
              "      <th>Id_Passageiro</th>\n",
              "      <th>Sobrevivente</th>\n",
              "      <th>Tipo_Bilhete</th>\n",
              "      <th>Nome</th>\n",
              "      <th>Sexo</th>\n",
              "      <th>Idade</th>\n",
              "      <th>Qtd_Irmaos_Conjuges</th>\n",
              "      <th>Qtd_Pais_filhos</th>\n",
              "      <th>Num_Bilhete</th>\n",
              "      <th>Tarifa_Passageiro</th>\n",
              "      <th>Num_Cabine</th>\n",
              "      <th>Porto_de_Embarque</th>\n",
              "    </tr>\n",
              "  </thead>\n",
              "  <tbody>\n",
              "    <tr>\n",
              "      <th>0</th>\n",
              "      <td>1</td>\n",
              "      <td>Não</td>\n",
              "      <td>3ª Classe</td>\n",
              "      <td>Braund, Mr. Owen Harris</td>\n",
              "      <td>Masculino</td>\n",
              "      <td>22</td>\n",
              "      <td>1</td>\n",
              "      <td>0</td>\n",
              "      <td>A/5 21171</td>\n",
              "      <td>7.2500</td>\n",
              "      <td>NaN</td>\n",
              "      <td>Southampton</td>\n",
              "    </tr>\n",
              "    <tr>\n",
              "      <th>1</th>\n",
              "      <td>2</td>\n",
              "      <td>Sim</td>\n",
              "      <td>1ª Classe</td>\n",
              "      <td>Cumings, Mrs. John Bradley (Florence Briggs Th...</td>\n",
              "      <td>Feminino</td>\n",
              "      <td>38</td>\n",
              "      <td>1</td>\n",
              "      <td>0</td>\n",
              "      <td>PC 17599</td>\n",
              "      <td>71.2833</td>\n",
              "      <td>C85</td>\n",
              "      <td>Cherbourg</td>\n",
              "    </tr>\n",
              "    <tr>\n",
              "      <th>2</th>\n",
              "      <td>3</td>\n",
              "      <td>Sim</td>\n",
              "      <td>3ª Classe</td>\n",
              "      <td>Heikkinen, Miss. Laina</td>\n",
              "      <td>Feminino</td>\n",
              "      <td>26</td>\n",
              "      <td>0</td>\n",
              "      <td>0</td>\n",
              "      <td>STON/O2. 3101282</td>\n",
              "      <td>7.9250</td>\n",
              "      <td>NaN</td>\n",
              "      <td>Southampton</td>\n",
              "    </tr>\n",
              "    <tr>\n",
              "      <th>3</th>\n",
              "      <td>4</td>\n",
              "      <td>Sim</td>\n",
              "      <td>1ª Classe</td>\n",
              "      <td>Futrelle, Mrs. Jacques Heath (Lily May Peel)</td>\n",
              "      <td>Feminino</td>\n",
              "      <td>35</td>\n",
              "      <td>1</td>\n",
              "      <td>0</td>\n",
              "      <td>113803</td>\n",
              "      <td>53.1000</td>\n",
              "      <td>C123</td>\n",
              "      <td>Southampton</td>\n",
              "    </tr>\n",
              "    <tr>\n",
              "      <th>4</th>\n",
              "      <td>5</td>\n",
              "      <td>Não</td>\n",
              "      <td>3ª Classe</td>\n",
              "      <td>Allen, Mr. William Henry</td>\n",
              "      <td>Masculino</td>\n",
              "      <td>35</td>\n",
              "      <td>0</td>\n",
              "      <td>0</td>\n",
              "      <td>373450</td>\n",
              "      <td>8.0500</td>\n",
              "      <td>NaN</td>\n",
              "      <td>Southampton</td>\n",
              "    </tr>\n",
              "  </tbody>\n",
              "</table>\n",
              "</div>\n",
              "    <div class=\"colab-df-buttons\">\n",
              "\n",
              "  <div class=\"colab-df-container\">\n",
              "    <button class=\"colab-df-convert\" onclick=\"convertToInteractive('df-68eb8401-c111-4e80-af76-0060e063aafe')\"\n",
              "            title=\"Convert this dataframe to an interactive table.\"\n",
              "            style=\"display:none;\">\n",
              "\n",
              "  <svg xmlns=\"http://www.w3.org/2000/svg\" height=\"24px\" viewBox=\"0 -960 960 960\">\n",
              "    <path d=\"M120-120v-720h720v720H120Zm60-500h600v-160H180v160Zm220 220h160v-160H400v160Zm0 220h160v-160H400v160ZM180-400h160v-160H180v160Zm440 0h160v-160H620v160ZM180-180h160v-160H180v160Zm440 0h160v-160H620v160Z\"/>\n",
              "  </svg>\n",
              "    </button>\n",
              "\n",
              "  <style>\n",
              "    .colab-df-container {\n",
              "      display:flex;\n",
              "      gap: 12px;\n",
              "    }\n",
              "\n",
              "    .colab-df-convert {\n",
              "      background-color: #E8F0FE;\n",
              "      border: none;\n",
              "      border-radius: 50%;\n",
              "      cursor: pointer;\n",
              "      display: none;\n",
              "      fill: #1967D2;\n",
              "      height: 32px;\n",
              "      padding: 0 0 0 0;\n",
              "      width: 32px;\n",
              "    }\n",
              "\n",
              "    .colab-df-convert:hover {\n",
              "      background-color: #E2EBFA;\n",
              "      box-shadow: 0px 1px 2px rgba(60, 64, 67, 0.3), 0px 1px 3px 1px rgba(60, 64, 67, 0.15);\n",
              "      fill: #174EA6;\n",
              "    }\n",
              "\n",
              "    .colab-df-buttons div {\n",
              "      margin-bottom: 4px;\n",
              "    }\n",
              "\n",
              "    [theme=dark] .colab-df-convert {\n",
              "      background-color: #3B4455;\n",
              "      fill: #D2E3FC;\n",
              "    }\n",
              "\n",
              "    [theme=dark] .colab-df-convert:hover {\n",
              "      background-color: #434B5C;\n",
              "      box-shadow: 0px 1px 3px 1px rgba(0, 0, 0, 0.15);\n",
              "      filter: drop-shadow(0px 1px 2px rgba(0, 0, 0, 0.3));\n",
              "      fill: #FFFFFF;\n",
              "    }\n",
              "  </style>\n",
              "\n",
              "    <script>\n",
              "      const buttonEl =\n",
              "        document.querySelector('#df-68eb8401-c111-4e80-af76-0060e063aafe button.colab-df-convert');\n",
              "      buttonEl.style.display =\n",
              "        google.colab.kernel.accessAllowed ? 'block' : 'none';\n",
              "\n",
              "      async function convertToInteractive(key) {\n",
              "        const element = document.querySelector('#df-68eb8401-c111-4e80-af76-0060e063aafe');\n",
              "        const dataTable =\n",
              "          await google.colab.kernel.invokeFunction('convertToInteractive',\n",
              "                                                    [key], {});\n",
              "        if (!dataTable) return;\n",
              "\n",
              "        const docLinkHtml = 'Like what you see? Visit the ' +\n",
              "          '<a target=\"_blank\" href=https://colab.research.google.com/notebooks/data_table.ipynb>data table notebook</a>'\n",
              "          + ' to learn more about interactive tables.';\n",
              "        element.innerHTML = '';\n",
              "        dataTable['output_type'] = 'display_data';\n",
              "        await google.colab.output.renderOutput(dataTable, element);\n",
              "        const docLink = document.createElement('div');\n",
              "        docLink.innerHTML = docLinkHtml;\n",
              "        element.appendChild(docLink);\n",
              "      }\n",
              "    </script>\n",
              "  </div>\n",
              "\n",
              "\n",
              "    <div id=\"df-8db9c9c9-de92-4a1e-b834-4d56f677109f\">\n",
              "      <button class=\"colab-df-quickchart\" onclick=\"quickchart('df-8db9c9c9-de92-4a1e-b834-4d56f677109f')\"\n",
              "                title=\"Suggest charts\"\n",
              "                style=\"display:none;\">\n",
              "\n",
              "<svg xmlns=\"http://www.w3.org/2000/svg\" height=\"24px\"viewBox=\"0 0 24 24\"\n",
              "     width=\"24px\">\n",
              "    <g>\n",
              "        <path d=\"M19 3H5c-1.1 0-2 .9-2 2v14c0 1.1.9 2 2 2h14c1.1 0 2-.9 2-2V5c0-1.1-.9-2-2-2zM9 17H7v-7h2v7zm4 0h-2V7h2v10zm4 0h-2v-4h2v4z\"/>\n",
              "    </g>\n",
              "</svg>\n",
              "      </button>\n",
              "\n",
              "<style>\n",
              "  .colab-df-quickchart {\n",
              "      --bg-color: #E8F0FE;\n",
              "      --fill-color: #1967D2;\n",
              "      --hover-bg-color: #E2EBFA;\n",
              "      --hover-fill-color: #174EA6;\n",
              "      --disabled-fill-color: #AAA;\n",
              "      --disabled-bg-color: #DDD;\n",
              "  }\n",
              "\n",
              "  [theme=dark] .colab-df-quickchart {\n",
              "      --bg-color: #3B4455;\n",
              "      --fill-color: #D2E3FC;\n",
              "      --hover-bg-color: #434B5C;\n",
              "      --hover-fill-color: #FFFFFF;\n",
              "      --disabled-bg-color: #3B4455;\n",
              "      --disabled-fill-color: #666;\n",
              "  }\n",
              "\n",
              "  .colab-df-quickchart {\n",
              "    background-color: var(--bg-color);\n",
              "    border: none;\n",
              "    border-radius: 50%;\n",
              "    cursor: pointer;\n",
              "    display: none;\n",
              "    fill: var(--fill-color);\n",
              "    height: 32px;\n",
              "    padding: 0;\n",
              "    width: 32px;\n",
              "  }\n",
              "\n",
              "  .colab-df-quickchart:hover {\n",
              "    background-color: var(--hover-bg-color);\n",
              "    box-shadow: 0 1px 2px rgba(60, 64, 67, 0.3), 0 1px 3px 1px rgba(60, 64, 67, 0.15);\n",
              "    fill: var(--button-hover-fill-color);\n",
              "  }\n",
              "\n",
              "  .colab-df-quickchart-complete:disabled,\n",
              "  .colab-df-quickchart-complete:disabled:hover {\n",
              "    background-color: var(--disabled-bg-color);\n",
              "    fill: var(--disabled-fill-color);\n",
              "    box-shadow: none;\n",
              "  }\n",
              "\n",
              "  .colab-df-spinner {\n",
              "    border: 2px solid var(--fill-color);\n",
              "    border-color: transparent;\n",
              "    border-bottom-color: var(--fill-color);\n",
              "    animation:\n",
              "      spin 1s steps(1) infinite;\n",
              "  }\n",
              "\n",
              "  @keyframes spin {\n",
              "    0% {\n",
              "      border-color: transparent;\n",
              "      border-bottom-color: var(--fill-color);\n",
              "      border-left-color: var(--fill-color);\n",
              "    }\n",
              "    20% {\n",
              "      border-color: transparent;\n",
              "      border-left-color: var(--fill-color);\n",
              "      border-top-color: var(--fill-color);\n",
              "    }\n",
              "    30% {\n",
              "      border-color: transparent;\n",
              "      border-left-color: var(--fill-color);\n",
              "      border-top-color: var(--fill-color);\n",
              "      border-right-color: var(--fill-color);\n",
              "    }\n",
              "    40% {\n",
              "      border-color: transparent;\n",
              "      border-right-color: var(--fill-color);\n",
              "      border-top-color: var(--fill-color);\n",
              "    }\n",
              "    60% {\n",
              "      border-color: transparent;\n",
              "      border-right-color: var(--fill-color);\n",
              "    }\n",
              "    80% {\n",
              "      border-color: transparent;\n",
              "      border-right-color: var(--fill-color);\n",
              "      border-bottom-color: var(--fill-color);\n",
              "    }\n",
              "    90% {\n",
              "      border-color: transparent;\n",
              "      border-bottom-color: var(--fill-color);\n",
              "    }\n",
              "  }\n",
              "</style>\n",
              "\n",
              "      <script>\n",
              "        async function quickchart(key) {\n",
              "          const quickchartButtonEl =\n",
              "            document.querySelector('#' + key + ' button');\n",
              "          quickchartButtonEl.disabled = true;  // To prevent multiple clicks.\n",
              "          quickchartButtonEl.classList.add('colab-df-spinner');\n",
              "          try {\n",
              "            const charts = await google.colab.kernel.invokeFunction(\n",
              "                'suggestCharts', [key], {});\n",
              "          } catch (error) {\n",
              "            console.error('Error during call to suggestCharts:', error);\n",
              "          }\n",
              "          quickchartButtonEl.classList.remove('colab-df-spinner');\n",
              "          quickchartButtonEl.classList.add('colab-df-quickchart-complete');\n",
              "        }\n",
              "        (() => {\n",
              "          let quickchartButtonEl =\n",
              "            document.querySelector('#df-8db9c9c9-de92-4a1e-b834-4d56f677109f button');\n",
              "          quickchartButtonEl.style.display =\n",
              "            google.colab.kernel.accessAllowed ? 'block' : 'none';\n",
              "        })();\n",
              "      </script>\n",
              "    </div>\n",
              "\n",
              "    </div>\n",
              "  </div>\n"
            ],
            "application/vnd.google.colaboratory.intrinsic+json": {
              "type": "dataframe",
              "variable_name": "train_df",
              "summary": "{\n  \"name\": \"train_df\",\n  \"rows\": 891,\n  \"fields\": [\n    {\n      \"column\": \"Id_Passageiro\",\n      \"properties\": {\n        \"dtype\": \"number\",\n        \"std\": 257,\n        \"min\": 1,\n        \"max\": 891,\n        \"num_unique_values\": 891,\n        \"samples\": [\n          710,\n          440,\n          841\n        ],\n        \"semantic_type\": \"\",\n        \"description\": \"\"\n      }\n    },\n    {\n      \"column\": \"Sobrevivente\",\n      \"properties\": {\n        \"dtype\": \"category\",\n        \"num_unique_values\": 2,\n        \"samples\": [\n          \"Sim\",\n          \"N\\u00e3o\"\n        ],\n        \"semantic_type\": \"\",\n        \"description\": \"\"\n      }\n    },\n    {\n      \"column\": \"Tipo_Bilhete\",\n      \"properties\": {\n        \"dtype\": \"category\",\n        \"num_unique_values\": 3,\n        \"samples\": [\n          \"3\\u00aa Classe\",\n          \"1\\u00aa Classe\"\n        ],\n        \"semantic_type\": \"\",\n        \"description\": \"\"\n      }\n    },\n    {\n      \"column\": \"Nome\",\n      \"properties\": {\n        \"dtype\": \"string\",\n        \"num_unique_values\": 891,\n        \"samples\": [\n          \"Moubarek, Master. Halim Gonios (\\\"William George\\\")\",\n          \"Kvillner, Mr. Johan Henrik Johannesson\"\n        ],\n        \"semantic_type\": \"\",\n        \"description\": \"\"\n      }\n    },\n    {\n      \"column\": \"Sexo\",\n      \"properties\": {\n        \"dtype\": \"category\",\n        \"num_unique_values\": 2,\n        \"samples\": [\n          \"Feminino\",\n          \"Masculino\"\n        ],\n        \"semantic_type\": \"\",\n        \"description\": \"\"\n      }\n    },\n    {\n      \"column\": \"Idade\",\n      \"properties\": {\n        \"dtype\": \"number\",\n        \"std\": 13,\n        \"min\": 0,\n        \"max\": 80,\n        \"num_unique_values\": 71,\n        \"samples\": [\n          21,\n          22\n        ],\n        \"semantic_type\": \"\",\n        \"description\": \"\"\n      }\n    },\n    {\n      \"column\": \"Qtd_Irmaos_Conjuges\",\n      \"properties\": {\n        \"dtype\": \"number\",\n        \"std\": 1,\n        \"min\": 0,\n        \"max\": 8,\n        \"num_unique_values\": 7,\n        \"samples\": [\n          1,\n          0\n        ],\n        \"semantic_type\": \"\",\n        \"description\": \"\"\n      }\n    },\n    {\n      \"column\": \"Qtd_Pais_filhos\",\n      \"properties\": {\n        \"dtype\": \"number\",\n        \"std\": 0,\n        \"min\": 0,\n        \"max\": 6,\n        \"num_unique_values\": 7,\n        \"samples\": [\n          0,\n          1\n        ],\n        \"semantic_type\": \"\",\n        \"description\": \"\"\n      }\n    },\n    {\n      \"column\": \"Num_Bilhete\",\n      \"properties\": {\n        \"dtype\": \"string\",\n        \"num_unique_values\": 681,\n        \"samples\": [\n          \"11774\",\n          \"248740\"\n        ],\n        \"semantic_type\": \"\",\n        \"description\": \"\"\n      }\n    },\n    {\n      \"column\": \"Tarifa_Passageiro\",\n      \"properties\": {\n        \"dtype\": \"number\",\n        \"std\": 49.693428597180905,\n        \"min\": 0.0,\n        \"max\": 512.3292,\n        \"num_unique_values\": 248,\n        \"samples\": [\n          11.2417,\n          51.8625\n        ],\n        \"semantic_type\": \"\",\n        \"description\": \"\"\n      }\n    },\n    {\n      \"column\": \"Num_Cabine\",\n      \"properties\": {\n        \"dtype\": \"category\",\n        \"num_unique_values\": 147,\n        \"samples\": [\n          \"D45\",\n          \"B49\"\n        ],\n        \"semantic_type\": \"\",\n        \"description\": \"\"\n      }\n    },\n    {\n      \"column\": \"Porto_de_Embarque\",\n      \"properties\": {\n        \"dtype\": \"category\",\n        \"num_unique_values\": 3,\n        \"samples\": [\n          \"Southampton\",\n          \"Cherbourg\"\n        ],\n        \"semantic_type\": \"\",\n        \"description\": \"\"\n      }\n    }\n  ]\n}"
            }
          },
          "metadata": {},
          "execution_count": 19
        }
      ]
    },
    {
      "cell_type": "markdown",
      "source": [
        "#### Porcentagem de passageiros que possuem idade nula"
      ],
      "metadata": {
        "id": "OOyQaPJR5s0O"
      }
    },
    {
      "cell_type": "code",
      "source": [
        "# Número total de passageiros\n",
        "total_passageiros = train_df.shape[0]\n",
        "\n",
        "# Número de valores nulos na coluna 'Idade'\n",
        "nulos_idade = train_df['Idade'].isnull().sum()\n",
        "\n",
        "# Calculando a porcentagem de nulos em 'Idade'\n",
        "porcentagem_nulos_idade = (nulos_idade / total_passageiros) * 100\n",
        "\n",
        "print(f\"Número total de passageiros: {total_passageiros}\")\n",
        "print(f\"Número de valores nulos na coluna 'Idade': {nulos_idade}\")\n",
        "print(f\"Porcentagem de dados nulos em 'Idade': {porcentagem_nulos_idade:.2f}%\")"
      ],
      "metadata": {
        "colab": {
          "base_uri": "https://localhost:8080/"
        },
        "id": "9YA1WZuL2D5l",
        "outputId": "995986de-d9b2-4ffa-c594-5a975ca40bf8"
      },
      "execution_count": null,
      "outputs": [
        {
          "output_type": "stream",
          "name": "stdout",
          "text": [
            "Número total de passageiros: 891\n",
            "Número de valores nulos na coluna 'Idade': 177\n",
            "Porcentagem de dados nulos em 'Idade': 19.87%\n"
          ]
        }
      ]
    },
    {
      "cell_type": "markdown",
      "source": [
        "#### Outliers de passageiros com idade acima da média"
      ],
      "metadata": {
        "id": "G0IXjM4V5x9w"
      }
    },
    {
      "cell_type": "code",
      "metadata": {
        "colab": {
          "base_uri": "https://localhost:8080/",
          "height": 526
        },
        "id": "46e48f32",
        "outputId": "ee4869e2-6370-4ce4-a287-aa7faab7e55b"
      },
      "source": [
        "import matplotlib.pyplot as plt\n",
        "import seaborn as sns\n",
        "\n",
        "# Crie o box plot da coluna 'Idade'\n",
        "plt.figure(figsize=(8, 6))\n",
        "sns.boxplot(y=train_df['Idade'])\n",
        "plt.title('Box Plot da Idade dos Passageiros')\n",
        "plt.ylabel('Idade')\n",
        "plt.show()"
      ],
      "execution_count": null,
      "outputs": [
        {
          "output_type": "display_data",
          "data": {
            "text/plain": [
              "<Figure size 800x600 with 1 Axes>"
            ],
            "image/png": "[encoded data removed]"
          },
          "metadata": {}
        }
      ]
    },
    {
      "cell_type": "markdown",
      "source": [
        "#### Por conta das outliners existentes para idade, será feito uma mediana para preencher os dados nulos e equilibrar a base de dados, pois são cerca de `177` dados da coluna \"Idade\" que estão nulos dos `891`."
      ],
      "metadata": {
        "id": "8HxA58i4CwzZ"
      }
    },
    {
      "cell_type": "markdown",
      "source": [
        "#### Preenchendo idade nula com a mediana"
      ],
      "metadata": {
        "id": "PHBNygnV6ANe"
      }
    },
    {
      "cell_type": "code",
      "metadata": {
        "colab": {
          "base_uri": "https://localhost:8080/",
          "height": 371
        },
        "id": "6ce322ca",
        "outputId": "53e2ffd5-f1ca-4a57-f017-a76ff77fbbdb"
      },
      "source": [
        "# Calculando a mediana da idade\n",
        "mediana_idade = train_df['Idade'].median()\n",
        "\n",
        "# Preenchendo os valores nulos na coluna 'Idade' com a mediana\n",
        "# Usando inplace=True para modificar o DataFrame original\n",
        "train_df['Idade'].fillna(mediana_idade, inplace=True)\n",
        "\n",
        "# Verificando se ainda há valores nulos na coluna 'Idade' após o preenchimento\n",
        "print(\"Num de valores nulos na coluna 'Idade':\", train_df['Idade'].isnull().sum())\n",
        "\n",
        "# Exibindo as primeiras linhas para verificar as mudanças\n",
        "train_df[['Nome', 'Idade']].head()"
      ],
      "execution_count": null,
      "outputs": [
        {
          "output_type": "stream",
          "name": "stdout",
          "text": [
            "Num de valores nulos na coluna 'Idade': 0\n"
          ]
        },
        {
          "output_type": "stream",
          "name": "stderr",
          "text": [
            "/tmp/ipython-input-1162097232.py:6: FutureWarning: A value is trying to be set on a copy of a DataFrame or Series through chained assignment using an inplace method.\n",
            "The behavior will change in pandas 3.0. This inplace method will never work because the intermediate object on which we are setting values always behaves as a copy.\n",
            "\n",
            "For example, when doing 'df[col].method(value, inplace=True)', try using 'df.method({col: value}, inplace=True)' or df[col] = df[col].method(value) instead, to perform the operation inplace on the original object.\n",
            "\n",
            "\n",
            "  train_df['Idade'].fillna(mediana_idade, inplace=True)\n"
          ]
        },
        {
          "output_type": "execute_result",
          "data": {
            "text/plain": [
              "                                                Nome  Idade\n",
              "0                            Braund, Mr. Owen Harris   22.0\n",
              "1  Cumings, Mrs. John Bradley (Florence Briggs Th...   38.0\n",
              "2                             Heikkinen, Miss. Laina   26.0\n",
              "3       Futrelle, Mrs. Jacques Heath (Lily May Peel)   35.0\n",
              "4                           Allen, Mr. William Henry   35.0"
            ],
            "text/html": [
              "\n",
              "  <div id=\"df-ee5acb81-af3b-4711-b9f6-7a4ae6303707\" class=\"colab-df-container\">\n",
              "    <div>\n",
              "<style scoped>\n",
              "    .dataframe tbody tr th:only-of-type {\n",
              "        vertical-align: middle;\n",
              "    }\n",
              "\n",
              "    .dataframe tbody tr th {\n",
              "        vertical-align: top;\n",
              "    }\n",
              "\n",
              "    .dataframe thead th {\n",
              "        text-align: right;\n",
              "    }\n",
              "</style>\n",
              "<table border=\"1\" class=\"dataframe\">\n",
              "  <thead>\n",
              "    <tr style=\"text-align: right;\">\n",
              "      <th></th>\n",
              "      <th>Nome</th>\n",
              "      <th>Idade</th>\n",
              "    </tr>\n",
              "  </thead>\n",
              "  <tbody>\n",
              "    <tr>\n",
              "      <th>0</th>\n",
              "      <td>Braund, Mr. Owen Harris</td>\n",
              "      <td>22.0</td>\n",
              "    </tr>\n",
              "    <tr>\n",
              "      <th>1</th>\n",
              "      <td>Cumings, Mrs. John Bradley (Florence Briggs Th...</td>\n",
              "      <td>38.0</td>\n",
              "    </tr>\n",
              "    <tr>\n",
              "      <th>2</th>\n",
              "      <td>Heikkinen, Miss. Laina</td>\n",
              "      <td>26.0</td>\n",
              "    </tr>\n",
              "    <tr>\n",
              "      <th>3</th>\n",
              "      <td>Futrelle, Mrs. Jacques Heath (Lily May Peel)</td>\n",
              "      <td>35.0</td>\n",
              "    </tr>\n",
              "    <tr>\n",
              "      <th>4</th>\n",
              "      <td>Allen, Mr. William Henry</td>\n",
              "      <td>35.0</td>\n",
              "    </tr>\n",
              "  </tbody>\n",
              "</table>\n",
              "</div>\n",
              "    <div class=\"colab-df-buttons\">\n",
              "\n",
              "  <div class=\"colab-df-container\">\n",
              "    <button class=\"colab-df-convert\" onclick=\"convertToInteractive('df-ee5acb81-af3b-4711-b9f6-7a4ae6303707')\"\n",
              "            title=\"Convert this dataframe to an interactive table.\"\n",
              "            style=\"display:none;\">\n",
              "\n",
              "  <svg xmlns=\"http://www.w3.org/2000/svg\" height=\"24px\" viewBox=\"0 -960 960 960\">\n",
              "    <path d=\"M120-120v-720h720v720H120Zm60-500h600v-160H180v160Zm220 220h160v-160H400v160Zm0 220h160v-160H400v160ZM180-400h160v-160H180v160Zm440 0h160v-160H620v160ZM180-180h160v-160H180v160Zm440 0h160v-160H620v160Z\"/>\n",
              "  </svg>\n",
              "    </button>\n",
              "\n",
              "  <style>\n",
              "    .colab-df-container {\n",
              "      display:flex;\n",
              "      gap: 12px;\n",
              "    }\n",
              "\n",
              "    .colab-df-convert {\n",
              "      background-color: #E8F0FE;\n",
              "      border: none;\n",
              "      border-radius: 50%;\n",
              "      cursor: pointer;\n",
              "      display: none;\n",
              "      fill: #1967D2;\n",
              "      height: 32px;\n",
              "      padding: 0 0 0 0;\n",
              "      width: 32px;\n",
              "    }\n",
              "\n",
              "    .colab-df-convert:hover {\n",
              "      background-color: #E2EBFA;\n",
              "      box-shadow: 0px 1px 2px rgba(60, 64, 67, 0.3), 0px 1px 3px 1px rgba(60, 64, 67, 0.15);\n",
              "      fill: #174EA6;\n",
              "    }\n",
              "\n",
              "    .colab-df-buttons div {\n",
              "      margin-bottom: 4px;\n",
              "    }\n",
              "\n",
              "    [theme=dark] .colab-df-convert {\n",
              "      background-color: #3B4455;\n",
              "      fill: #D2E3FC;\n",
              "    }\n",
              "\n",
              "    [theme=dark] .colab-df-convert:hover {\n",
              "      background-color: #434B5C;\n",
              "      box-shadow: 0px 1px 3px 1px rgba(0, 0, 0, 0.15);\n",
              "      filter: drop-shadow(0px 1px 2px rgba(0, 0, 0, 0.3));\n",
              "      fill: #FFFFFF;\n",
              "    }\n",
              "  </style>\n",
              "\n",
              "    <script>\n",
              "      const buttonEl =\n",
              "        document.querySelector('#df-ee5acb81-af3b-4711-b9f6-7a4ae6303707 button.colab-df-convert');\n",
              "      buttonEl.style.display =\n",
              "        google.colab.kernel.accessAllowed ? 'block' : 'none';\n",
              "\n",
              "      async function convertToInteractive(key) {\n",
              "        const element = document.querySelector('#df-ee5acb81-af3b-4711-b9f6-7a4ae6303707');\n",
              "        const dataTable =\n",
              "          await google.colab.kernel.invokeFunction('convertToInteractive',\n",
              "                                                    [key], {});\n",
              "        if (!dataTable) return;\n",
              "\n",
              "        const docLinkHtml = 'Like what you see? Visit the ' +\n",
              "          '<a target=\"_blank\" href=https://colab.research.google.com/notebooks/data_table.ipynb>data table notebook</a>'\n",
              "          + ' to learn more about interactive tables.';\n",
              "        element.innerHTML = '';\n",
              "        dataTable['output_type'] = 'display_data';\n",
              "        await google.colab.output.renderOutput(dataTable, element);\n",
              "        const docLink = document.createElement('div');\n",
              "        docLink.innerHTML = docLinkHtml;\n",
              "        element.appendChild(docLink);\n",
              "      }\n",
              "    </script>\n",
              "  </div>\n",
              "\n",
              "\n",
              "    <div id=\"df-7bb07870-e1a7-4d74-95a1-113e72c54a2a\">\n",
              "      <button class=\"colab-df-quickchart\" onclick=\"quickchart('df-7bb07870-e1a7-4d74-95a1-113e72c54a2a')\"\n",
              "                title=\"Suggest charts\"\n",
              "                style=\"display:none;\">\n",
              "\n",
              "<svg xmlns=\"http://www.w3.org/2000/svg\" height=\"24px\"viewBox=\"0 0 24 24\"\n",
              "     width=\"24px\">\n",
              "    <g>\n",
              "        <path d=\"M19 3H5c-1.1 0-2 .9-2 2v14c0 1.1.9 2 2 2h14c1.1 0 2-.9 2-2V5c0-1.1-.9-2-2-2zM9 17H7v-7h2v7zm4 0h-2V7h2v10zm4 0h-2v-4h2v4z\"/>\n",
              "    </g>\n",
              "</svg>\n",
              "      </button>\n",
              "\n",
              "<style>\n",
              "  .colab-df-quickchart {\n",
              "      --bg-color: #E8F0FE;\n",
              "      --fill-color: #1967D2;\n",
              "      --hover-bg-color: #E2EBFA;\n",
              "      --hover-fill-color: #174EA6;\n",
              "      --disabled-fill-color: #AAA;\n",
              "      --disabled-bg-color: #DDD;\n",
              "  }\n",
              "\n",
              "  [theme=dark] .colab-df-quickchart {\n",
              "      --bg-color: #3B4455;\n",
              "      --fill-color: #D2E3FC;\n",
              "      --hover-bg-color: #434B5C;\n",
              "      --hover-fill-color: #FFFFFF;\n",
              "      --disabled-bg-color: #3B4455;\n",
              "      --disabled-fill-color: #666;\n",
              "  }\n",
              "\n",
              "  .colab-df-quickchart {\n",
              "    background-color: var(--bg-color);\n",
              "    border: none;\n",
              "    border-radius: 50%;\n",
              "    cursor: pointer;\n",
              "    display: none;\n",
              "    fill: var(--fill-color);\n",
              "    height: 32px;\n",
              "    padding: 0;\n",
              "    width: 32px;\n",
              "  }\n",
              "\n",
              "  .colab-df-quickchart:hover {\n",
              "    background-color: var(--hover-bg-color);\n",
              "    box-shadow: 0 1px 2px rgba(60, 64, 67, 0.3), 0 1px 3px 1px rgba(60, 64, 67, 0.15);\n",
              "    fill: var(--button-hover-fill-color);\n",
              "  }\n",
              "\n",
              "  .colab-df-quickchart-complete:disabled,\n",
              "  .colab-df-quickchart-complete:disabled:hover {\n",
              "    background-color: var(--disabled-bg-color);\n",
              "    fill: var(--disabled-fill-color);\n",
              "    box-shadow: none;\n",
              "  }\n",
              "\n",
              "  .colab-df-spinner {\n",
              "    border: 2px solid var(--fill-color);\n",
              "    border-color: transparent;\n",
              "    border-bottom-color: var(--fill-color);\n",
              "    animation:\n",
              "      spin 1s steps(1) infinite;\n",
              "  }\n",
              "\n",
              "  @keyframes spin {\n",
              "    0% {\n",
              "      border-color: transparent;\n",
              "      border-bottom-color: var(--fill-color);\n",
              "      border-left-color: var(--fill-color);\n",
              "    }\n",
              "    20% {\n",
              "      border-color: transparent;\n",
              "      border-left-color: var(--fill-color);\n",
              "      border-top-color: var(--fill-color);\n",
              "    }\n",
              "    30% {\n",
              "      border-color: transparent;\n",
              "      border-left-color: var(--fill-color);\n",
              "      border-top-color: var(--fill-color);\n",
              "      border-right-color: var(--fill-color);\n",
              "    }\n",
              "    40% {\n",
              "      border-color: transparent;\n",
              "      border-right-color: var(--fill-color);\n",
              "      border-top-color: var(--fill-color);\n",
              "    }\n",
              "    60% {\n",
              "      border-color: transparent;\n",
              "      border-right-color: var(--fill-color);\n",
              "    }\n",
              "    80% {\n",
              "      border-color: transparent;\n",
              "      border-right-color: var(--fill-color);\n",
              "      border-bottom-color: var(--fill-color);\n",
              "    }\n",
              "    90% {\n",
              "      border-color: transparent;\n",
              "      border-bottom-color: var(--fill-color);\n",
              "    }\n",
              "  }\n",
              "</style>\n",
              "\n",
              "      <script>\n",
              "        async function quickchart(key) {\n",
              "          const quickchartButtonEl =\n",
              "            document.querySelector('#' + key + ' button');\n",
              "          quickchartButtonEl.disabled = true;  // To prevent multiple clicks.\n",
              "          quickchartButtonEl.classList.add('colab-df-spinner');\n",
              "          try {\n",
              "            const charts = await google.colab.kernel.invokeFunction(\n",
              "                'suggestCharts', [key], {});\n",
              "          } catch (error) {\n",
              "            console.error('Error during call to suggestCharts:', error);\n",
              "          }\n",
              "          quickchartButtonEl.classList.remove('colab-df-spinner');\n",
              "          quickchartButtonEl.classList.add('colab-df-quickchart-complete');\n",
              "        }\n",
              "        (() => {\n",
              "          let quickchartButtonEl =\n",
              "            document.querySelector('#df-7bb07870-e1a7-4d74-95a1-113e72c54a2a button');\n",
              "          quickchartButtonEl.style.display =\n",
              "            google.colab.kernel.accessAllowed ? 'block' : 'none';\n",
              "        })();\n",
              "      </script>\n",
              "    </div>\n",
              "\n",
              "    </div>\n",
              "  </div>\n"
            ],
            "application/vnd.google.colaboratory.intrinsic+json": {
              "type": "dataframe",
              "summary": "{\n  \"name\": \"train_df[['Nome', 'Idade']]\",\n  \"rows\": 5,\n  \"fields\": [\n    {\n      \"column\": \"Nome\",\n      \"properties\": {\n        \"dtype\": \"string\",\n        \"num_unique_values\": 5,\n        \"samples\": [\n          \"Cumings, Mrs. John Bradley (Florence Briggs Thayer)\",\n          \"Allen, Mr. William Henry\",\n          \"Heikkinen, Miss. Laina\"\n        ],\n        \"semantic_type\": \"\",\n        \"description\": \"\"\n      }\n    },\n    {\n      \"column\": \"Idade\",\n      \"properties\": {\n        \"dtype\": \"number\",\n        \"std\": 6.833739825307955,\n        \"min\": 22.0,\n        \"max\": 38.0,\n        \"num_unique_values\": 4,\n        \"samples\": [\n          38.0,\n          35.0,\n          22.0\n        ],\n        \"semantic_type\": \"\",\n        \"description\": \"\"\n      }\n    }\n  ]\n}"
            }
          },
          "metadata": {},
          "execution_count": 17
        }
      ]
    },
    {
      "cell_type": "markdown",
      "source": [
        "# Baixando planilha"
      ],
      "metadata": {
        "id": "XoruAt-zL8yf"
      }
    },
    {
      "cell_type": "code",
      "source": [
        "train_df.to_csv('titanic_train.csv', index= False)"
      ],
      "metadata": {
        "id": "pxUotiYAL3E3"
      },
      "execution_count": null,
      "outputs": []
    },
    {
      "cell_type": "markdown",
      "source": [
        "----------\n",
        "# Análise e Visualização\n"
      ],
      "metadata": {
        "id": "orXE1FHGw20G"
      }
    },
    {
      "cell_type": "markdown",
      "source": [
        "\n",
        "\n",
        "---\n",
        "\n",
        "\n",
        "A partir de agora, a análise realizada foi feita com o auxílio do Power BI, então o que eu deixarei em seguida, serão os prints das análises.\n",
        "\n",
        "> Obs: Você também pode estar visualizando através do arquivo powerBI disponível no github\n",
        "\n",
        "O arquivo pode ser encontrado com o nome \"Relatório de sobreviventes do Titanic.pbix\" na página principal\n",
        "\n",
        "Link: https://github.com/mariaefoliveira/Analise_Titanic/tree/main\n",
        "\n",
        "\n",
        "\n",
        "\n",
        "---\n",
        "\n"
      ],
      "metadata": {
        "id": "dQB4B2z6JdC4"
      }
    },
    {
      "cell_type": "markdown",
      "source": [
        "## Número de Passageiros"
      ],
      "metadata": {
        "id": "-PoarQWM0S2Y"
      }
    },
    {
      "cell_type": "code",
      "source": [
        "# Contando valores nulos novamente para confirmar\n",
        "print(\"Valores nulos no DataFrame:\")\n",
        "print(\"\\nIdade: \", train_df['Idade'].isnull().sum())\n",
        "print(\"Porto_de_Embarque: \",train_df[\"Porto_de_Embarque\"].isnull().sum())"
      ],
      "metadata": {
        "colab": {
          "base_uri": "https://localhost:8080/"
        },
        "id": "rzU_09M90Pz-",
        "outputId": "9c7362e1-9120-4ceb-8807-98f8aa0253c4"
      },
      "execution_count": null,
      "outputs": [
        {
          "output_type": "stream",
          "name": "stdout",
          "text": [
            "Valores nulos no DataFrame:\n",
            "\n",
            "Idade:  0\n",
            "Porto_de_Embarque:  2\n"
          ]
        }
      ]
    },
    {
      "cell_type": "markdown",
      "source": [
        "O número de passageiros registrados no arquivo treino era de:\n",
        "\n",
        "![\"Número de Passageiros registrados\"](https://github.com/mariaefoliveira/Analise_Titanic/blob/main/Imagem-Print/Passageiros/Num%20de%20passageiros%20registrados.png?raw=true)\n",
        "\n",
        "Sendo identificado alguns dados nulos que não fariam muita diferença na análise atual, então não foi considerado a exclusão ou tratamento definitivo do `Porto de Embarque`."
      ],
      "metadata": {
        "id": "PGLGNAXb_Trr"
      }
    },
    {
      "cell_type": "markdown",
      "source": [
        "## Número de Passageiros por Sexo\n",
        "\n"
      ],
      "metadata": {
        "id": "XO14cjkIJX1A"
      }
    },
    {
      "cell_type": "markdown",
      "source": [
        "Sexo Feminino: **314**\n",
        "\n",
        "Sexo Masculino: **577**\n",
        "\n",
        "Foi identificado que nos dados da planilha, haviam mais informações de `homens` do que de `mulheres` a bordo.\n",
        "\n",
        "Ocupando cerca de `64,76%` da tabela."
      ],
      "metadata": {
        "id": "wxhKGhQw_Zff"
      }
    },
    {
      "cell_type": "markdown",
      "source": [
        "\n",
        "![\"Número de passageiros por Sexo\"](https://github.com/mariaefoliveira/Analise_Titanic/blob/main/Imagem-Print/Passageiros/Num%20de%20passageiros%20por%20Sexo.png?raw=true)\n"
      ],
      "metadata": {
        "id": "t_LdGk7jPkzP"
      }
    },
    {
      "cell_type": "markdown",
      "source": [
        "## Passageiros por classe\n"
      ],
      "metadata": {
        "id": "1HLYztzjPoBv"
      }
    },
    {
      "cell_type": "markdown",
      "source": [
        "\n",
        "![\"Classe\"](https://github.com/mariaefoliveira/Analise_Titanic/blob/main/Imagem-Print/Passageiros/Num%20de%20passageiros%20por%20tipo%20Classe.png?raw=true)\n",
        "\n",
        "Foram identificados um maior número de pessoas da primeira e terceira classe, mas isso pode estar intrísecamente relacionado a idade. Mas analisando superficialmente, `491` dos passageiros eram da 3ª classe e `216` da 1ª classe, sendo a `2ª classe` a de menor registro."
      ],
      "metadata": {
        "id": "KCd8dRRHKaHQ"
      }
    },
    {
      "cell_type": "markdown",
      "source": [
        "## Taxa de sobrevivência"
      ],
      "metadata": {
        "id": "PGAdxkRVOBM-"
      }
    },
    {
      "cell_type": "markdown",
      "source": [
        "![](https://github.com/mariaefoliveira/Analise_Titanic/blob/main/Imagem-Print/Passageiros/Porc_Sobreviventes_Sexo_e_Idade.png?raw=true)\n"
      ],
      "metadata": {
        "id": "8l9So3xtT6ig"
      }
    },
    {
      "cell_type": "markdown",
      "source": [
        "### Por Classe\n",
        "\n",
        "Foi identificado que o sexo `feminino` teve uma taxa de sobrevivência maior, onde:\n",
        "\n"
      ],
      "metadata": {
        "id": "0aArdW5TSc2f"
      }
    },
    {
      "cell_type": "markdown",
      "source": [
        "#### 1ª Classe\n",
        "Houve um menor número de mulheres falecidas e uma taxa maior de sobrevivência.\n",
        "\n",
        "![](https://github.com/mariaefoliveira/Analise_Titanic/blob/main/Imagem-Print/Passageiros/Taxa_sobrev_1_classe.png?raw=true)\n",
        "\n"
      ],
      "metadata": {
        "id": "9t8vkb8oShdX"
      }
    },
    {
      "cell_type": "markdown",
      "source": [
        "#### 2ª Classe\n",
        "O resultado foi até um pouco similar a primeira classe, comparado com o número de mulheres que não conseguiram sobreviver que eram da 2ª classe, é um valor até positivo.\n",
        "\n",
        "![](https://github.com/mariaefoliveira/Analise_Titanic/blob/main/Imagem-Print/Passageiros/Taxa_sobrev_2_classe.png?raw=true)\n"
      ],
      "metadata": {
        "id": "pHryc5JLSjhv"
      }
    },
    {
      "cell_type": "markdown",
      "source": [
        "#### 3ª Classe\n",
        "Não houve uma queda visível na sobrevivência de mulheres, mas a porcentagem (ou número de mulheres que sobreviveram), se mantém igual. O que não é muito positivo se comparado ao total de mulheres presentes na terceira classe.\n",
        "\n",
        "![](https://github.com/mariaefoliveira/Analise_Titanic/blob/main/Imagem-Print/Passageiros/Taxa_sobrev_3_classe.png?raw=true)\n",
        "\n"
      ],
      "metadata": {
        "id": "-K4uokLrSlU3"
      }
    },
    {
      "cell_type": "markdown",
      "source": [
        "### Por idade\n",
        "\n",
        "Por idade, foi optado por fazer a separação por blocos de 10 em 10.\n",
        "\n",
        "De modo geral, pessoas com mais de 80 anos, houve apenas 1 indivíduo registrado, e esse 1 sobreviveu, de 70 à 79, ninguém sobreviveu.\n",
        "\n"
      ],
      "metadata": {
        "id": "Skf4KP0QLa1I"
      }
    },
    {
      "cell_type": "markdown",
      "source": [
        "#### 1ª Classe\n",
        "\n",
        "Sobrevivência moderada, mas ainda assim baixa, considerando o número de pessoas falecidas.\n",
        "\n",
        "![](https://github.com/mariaefoliveira/Analise_Titanic/blob/main/Imagem-Print/Passageiros/taxa_sobrev_idade_1.png?raw=true)\n",
        "\n"
      ],
      "metadata": {
        "id": "2aNvggZTTdYW"
      }
    },
    {
      "cell_type": "markdown",
      "source": [
        "#### 2ª Classe\n",
        "\n",
        "Taxa de sobrevivência foi baixa, mas ainda assim teve baixo número de falecidos, também devemos considerar que não tiveram tantos passageiros da 2ª classe comparado a 1ª e 3ª classe, por isso os valores baixos.\n",
        "\n",
        "![](https://github.com/mariaefoliveira/Analise_Titanic/blob/main/Imagem-Print/Passageiros/taxa_sobrev_idade_2.png?raw=true)\n"
      ],
      "metadata": {
        "id": "wgjGG1WwTe1N"
      }
    },
    {
      "cell_type": "markdown",
      "source": [
        "#### 3ª Classe\n",
        "\n",
        "Quanto mais novo o passageiro, diferente das anteriores, maior a possibilidade de falecimento, o número de crianças falecidas que eram de terceira classe, entrou em destaque neste gráfico pelo valor exorbitante.\n",
        "\n",
        "Dentre as crianças falecidas (do valor total), a 3ª Classe foi a que teve maior número de óbitos, `30%` delas sobreviveram.\n",
        "\n",
        "![](https://github.com/mariaefoliveira/Analise_Titanic/blob/main/Imagem-Print/Passageiros/taxa_sobrev_idade_3.png?raw=true)"
      ],
      "metadata": {
        "id": "-v0cRKPUTgcO"
      }
    },
    {
      "cell_type": "markdown",
      "source": [
        "## Análise Demográfica"
      ],
      "metadata": {
        "id": "WRftYcoyUWVa"
      }
    },
    {
      "cell_type": "markdown",
      "source": [
        "Muitos dos passageiros a bordo que foram registrados, embarcaram no porto `Southampton`, tendo recebido um diferencial de até 500 passageiros comparado aos outros portos.\n",
        "\n",
        "A faixa Etária dos passageiros era de uma média `30 anos`.\n",
        "\n",
        "Tarifa Média Geral:\n",
        "\n",
        "![](https://github.com/mariaefoliveira/Analise_Titanic/blob/main/Imagem-Print/Demografico/Tarifa-Geral.png?raw=true)\n",
        "\n",
        "<img src=\"https://github.com/mariaefoliveira/Analise_Titanic/blob/main/Imagem-Print/Demografico/N%C3%BAmero%20de%20Passageiro%20-%20Porto%20-%20Geral.png?raw=true\" width=\"700\">\n",
        "\n",
        "![](https://github.com/mariaefoliveira/Analise_Titanic/blob/main/Imagem-Print/Demografico/Sozinho-em-familia-Geral.png?raw=true)\n",
        "\n",
        "\n",
        "Pelo número de sobreviventes que estavam em família, tiro as conclusões de que deram preferências para quem estava em família, na companhia seja: de um menor, criança, esposa..."
      ],
      "metadata": {
        "id": "9ktrFcJcXQOe"
      }
    },
    {
      "cell_type": "markdown",
      "source": [
        "### 1ª Classe"
      ],
      "metadata": {
        "id": "5lSzGSP5ZTWD"
      }
    },
    {
      "cell_type": "markdown",
      "source": [
        "Pessoas da `primeira classe` que embarcaram tanto em Southampton e Cherbourg, apresentaram uma sobrevivência mediana, comparado ao número de pessoas que embarcaram.\n",
        "\n",
        "Sendo os que embarcaram no porto `Cherbourg` o de \"maior taxa de sobrevivência\", quando categorizada por porto.\n",
        "\n",
        "![](https://github.com/mariaefoliveira/Analise_Titanic/blob/main/Imagem-Print/Demografico/M%C3%A9dia-Idade-1.png?raw=true)\n",
        "\n",
        "\n",
        "A idade conversa bastante com o custo esperado de uma passagem de primeira classe, algo que alguém mais jovem pode não ter a liberdade para financear com facilidade.\n",
        "\n",
        "<img src=\"https://github.com/mariaefoliveira/Analise_Titanic/blob/main/Imagem-Print/Demografico/Numero%20de%20passageiros%20-%20Porto%20-%201.png?raw=true\" width=\"700\">\n",
        "\n",
        "![](https://github.com/mariaefoliveira/Analise_Titanic/blob/main/Imagem-Print/Demografico/Sozinho-em-familia-1.png?raw=true)\n",
        "\n",
        "Podemos ver nesse último gráfico que na primeira classe, deram preferência aos passageiros que estavam em família, mas que ao mesmo tempo, pessoas sozinhas também tiveram uma atenção."
      ],
      "metadata": {
        "id": "98jxH85PYpTB"
      }
    },
    {
      "cell_type": "markdown",
      "source": [
        "### 2ª Classe"
      ],
      "metadata": {
        "id": "RWNGIlwiZZFt"
      }
    },
    {
      "cell_type": "markdown",
      "source": [
        "Houveram um número de sobrevivêntes similares ao da primeira classe quando se compara aos que embarcaram em `Southampton`, mas o número de embarcados no porto `Cherbourg` e `Queentown` foram muito baixos para poder comparar.\n",
        "\n",
        "Mas o número de falecidos da `segunda classe` foi ligeiramente maior\n",
        "\n",
        "![](https://github.com/mariaefoliveira/Analise_Titanic/blob/main/Imagem-Print/Demografico/M%C3%A9dia-Idade-2.png?raw=true)\n",
        "\n",
        " <img src=\"https://github.com/mariaefoliveira/Analise_Titanic/blob/main/Imagem-Print/Demografico/Numero%20de%20passageiros%20-%20Porto%20-%202.png?raw=true\" width=\"700\">\n",
        "\n",
        " ![](https://github.com/mariaefoliveira/Analise_Titanic/blob/main/Imagem-Print/Demografico/Sozinho-em-familia-2.png?raw=true)"
      ],
      "metadata": {
        "id": "WNvzBeW1ZXuJ"
      }
    },
    {
      "cell_type": "markdown",
      "source": [
        "### 3ª Classe"
      ],
      "metadata": {
        "id": "vHYHkmurZbZr"
      }
    },
    {
      "cell_type": "markdown",
      "source": [
        "O número de embarcados foi bem maior em Southampton, mas infelizmente, comparado as outras classes, teve um número de perdas igualmente maior, os que sobresaíram em sobrevivência foram os dos portos `Queentown` e `Cherbourg`\n",
        "\n",
        "![](https://github.com/mariaefoliveira/Analise_Titanic/blob/main/Imagem-Print/Demografico/M%C3%A9dia-Idade-3.png?raw=true)\n",
        "\n",
        "A idade média dos embarcados na terceira classe, eram mais jovens, o que tem algum sentido levando em consideração aos custos de uma passagem para a terceira classe e que pode ou não ter a capacidade financeira para custear.\n",
        "\n",
        "<img src=\"https://github.com/mariaefoliveira/Analise_Titanic/blob/main/Imagem-Print/Demografico/Numero%20de%20passageiros%20-%20Porto%20-%203.png?raw=true\" width=\"700\">\n",
        "\n",
        "![](https://github.com/mariaefoliveira/Analise_Titanic/blob/main/Imagem-Print/Demografico/Sozinho-em-familia-3.png?raw=true)"
      ],
      "metadata": {
        "id": "wvOvKFerZYKS"
      }
    },
    {
      "cell_type": "markdown",
      "source": [
        "### Resumo:\n",
        "\n",
        "Primeira e Segunda classe tiveram vantagem em sobrevivência, o número de embarcados foi bem maior na 3ª classe, podemos considerar que seja pelo valor da tarifa (o que veremos mais a frente).\n",
        "\n",
        "Mas há uma suposição inicial que a taxa de sobrevivência, possa estar interligada a classe de embarque, aqueles que pagaram mais caro, tiveram preferência ou uma facilidade de acesso aos botes salva-vidas, por exemplo.\n",
        "\n",
        "Pois se analisarmos com mais atenção, podemos reparar que na `terceira classe`, teve uma perda de até `20%` dependendo do porto de embarque, enquanto outras foi uma diferença de quase `10%` de perda.\n",
        "\n",
        "No âmbito geral, os passageiros tinham por volta de 30 anos, a idade média, indica que uma maior parte dos jovens escolheram a `terceira classe`, e todos que estavam em família, ou seja, com filhos ou até parceira (esposa), foram priorizados."
      ],
      "metadata": {
        "id": "nhWoapoTcJCw"
      }
    },
    {
      "cell_type": "markdown",
      "source": [
        "## Aprofundando na Análise das famílias"
      ],
      "metadata": {
        "id": "ouFbm9mCuE_w"
      }
    },
    {
      "cell_type": "markdown",
      "source": [
        "### Categorizado por Sexo:"
      ],
      "metadata": {
        "id": "mkgs4HKY1pOe"
      }
    },
    {
      "cell_type": "markdown",
      "source": [
        "#### Feminino"
      ],
      "metadata": {
        "id": "iyCh2_IS1unQ"
      }
    },
    {
      "cell_type": "markdown",
      "source": [
        "<img src=\"https://github.com/mariaefoliveira/Analise_Titanic/blob/main/Imagem-Print/Familia/Feminino/Geral.png?raw=true\" width=\"500\">"
      ],
      "metadata": {
        "id": "HDsRyO9tY7fR"
      }
    },
    {
      "cell_type": "markdown",
      "source": [
        "#### Por Classe"
      ],
      "metadata": {
        "id": "LxhMEnatfOwo"
      }
    },
    {
      "cell_type": "markdown",
      "source": [
        "<table style=\"width: 800px; border-collapse: collapse;\">\n",
        "<tr>\n",
        "<td style=\"width: 30%; padding: 5px;\"><img src=\"https://github.com/mariaefoliveira/Analise_Titanic/blob/main/Imagem-Print/Familia/Feminino/Geral-1.png?raw=true\" style=\"width: 100%; height: auto; display: block;\"></td>\n",
        "<td style=\"width: 30%; padding: 5px;\"><img src=\"https://github.com/mariaefoliveira/Analise_Titanic/blob/main/Imagem-Print/Familia/Feminino/Geral-2.png?raw=true\" style=\"width: 100%; height: auto; display: block;\"></td>\n",
        "</table>"
      ],
      "metadata": {
        "id": "5v8yPuA2ZTQL"
      }
    },
    {
      "cell_type": "markdown",
      "source": [
        "<table style=\"width: 800px; border-collapse: collapse;\">\n",
        "  <img src=\"https://github.com/mariaefoliveira/Analise_Titanic/blob/main/Imagem-Print/Familia/Feminino/Geral-3.png?raw=true\" width=\"500\">\n",
        "</table>"
      ],
      "metadata": {
        "id": "zV4Zgqj7cYdo"
      }
    },
    {
      "cell_type": "markdown",
      "source": [
        "### Resumo [Feminino]\n",
        "A maioria das mulheres eram jovens, chegando a 28 anos, e todas elas tiveram uma taxa de sobrevivência alta, menos a da terceira classe, o que leva a crer que priorizaram realmente mulheres e crianças, mas principalmente `primeira` e `segunda` classe."
      ],
      "metadata": {
        "id": "RDZUdYL-d6WV"
      }
    },
    {
      "cell_type": "markdown",
      "source": [
        "#### Masculino"
      ],
      "metadata": {
        "id": "hdHAs5E01xEY"
      }
    },
    {
      "cell_type": "markdown",
      "source": [
        "<img src=\"https://github.com/mariaefoliveira/Analise_Titanic/blob/main/Imagem-Print/Familia/Masculino/Geral.png?raw=true\" width=\"500\">"
      ],
      "metadata": {
        "id": "xlpB6NZveo-O"
      }
    },
    {
      "cell_type": "markdown",
      "source": [
        "#### Por Classe"
      ],
      "metadata": {
        "id": "CRSObzNvfRn3"
      }
    },
    {
      "cell_type": "markdown",
      "source": [
        "<table style=\"width: 800px; border-collapse: collapse;\">\n",
        "<tr>\n",
        "<td style=\"width: 30%; padding: 5px;\"><img src=\"https://github.com/mariaefoliveira/Analise_Titanic/blob/main/Imagem-Print/Familia/Masculino/Geral-1.png?raw=true\" style=\"width: 100%; height: auto; display: block;\"></td>\n",
        "<td style=\"width: 30%; padding: 5px;\"><img src=\"https://github.com/mariaefoliveira/Analise_Titanic/blob/main/Imagem-Print/Familia/Masculino/Geral-2.png?raw=true\" style=\"width: 100%; height: auto; display: block;\"></td>\n",
        "</table>"
      ],
      "metadata": {
        "id": "4JUCNexReut9"
      }
    },
    {
      "cell_type": "markdown",
      "source": [
        "<table style=\"width: 800px; border-collapse: collapse;\">\n",
        "  <img src=\"https://github.com/mariaefoliveira/Analise_Titanic/blob/main/Imagem-Print/Familia/Masculino/Geral-3.png?raw=true\" width=\"500\">\n",
        "</table>"
      ],
      "metadata": {
        "id": "OifKomqWe0vW"
      }
    },
    {
      "cell_type": "markdown",
      "source": [
        "### Resumo [Masculino]\n",
        "\n",
        "Do número de homens registrados que estavam naquele navio, um número alto não conseguiram sobreviver, os que sobreviveram foram principalmente da `primeira` e `segunda` classe, indicando a prioridade usada, assim como foi para as mulheres"
      ],
      "metadata": {
        "id": "J64-hEVzfYK5"
      }
    },
    {
      "cell_type": "markdown",
      "source": [
        "#Considerações finais:\n",
        "\n"
      ],
      "metadata": {
        "id": "jroVJN7Eg0XT"
      }
    },
    {
      "cell_type": "markdown",
      "source": [
        "Dos 891 passageiros que foram analisados, 314 era do sexo feminino e 577 do masculino.\n",
        "\n",
        "Durante a análise, foi reforçado bastante que enquanto o navio afundava, foi priorizado crianças e mulheres primeiro e em seguida os homens, mas com uma regra igual para ambos que era priorização da `1ª e 2ª classe`. Esta questão foi percebida, pelo número de falecidos da 3ª classe que para ambos os sexos aumenta consideravelmente, se comparado as outras duas classes, principalmente quando nos referimos as crianças que também foi um fator que aumentou consideravelmente.\n",
        "\n",
        "A maioria que escolheram a terceira classe, era em parte jovens com uma média de 25 anos, me levando a considerar a possibilidade de serem pessoas que estavam alí que queriam viajar e ainda não chegaram ao auge financeiro em suas carreiras."
      ],
      "metadata": {
        "id": "4hB4O8Xph3Lr"
      }
    },
    {
      "cell_type": "markdown",
      "source": [
        "### Possíveis questão a ser trabalhada:\n",
        "\n",
        "Haveria alguma relação da sobrevivência e o número da cabine do passageiro?\n",
        "\n",
        "Neste caso é considerando a distância para chegar até a saída. Então para chegar a resposta, seria necessário informações complementares algumas informações."
      ],
      "metadata": {
        "id": "BE6ffvmohele"
      }
    }
  ]
}